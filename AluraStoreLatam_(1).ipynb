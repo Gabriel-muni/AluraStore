{
  "nbformat": 4,
  "nbformat_minor": 0,
  "metadata": {
    "colab": {
      "provenance": [],
      "include_colab_link": true
    },
    "kernelspec": {
      "name": "python3",
      "display_name": "Python 3"
    },
    "language_info": {
      "name": "python"
    }
  },
  "cells": [
    {
      "cell_type": "markdown",
      "metadata": {
        "id": "view-in-github",
        "colab_type": "text"
      },
      "source": [
        "<a href=\"https://colab.research.google.com/github/Gabriel-muni/AluraStore/blob/main/AluraStoreLatam_(1).ipynb\" target=\"_parent\"><img src=\"https://colab.research.google.com/assets/colab-badge.svg\" alt=\"Open In Colab\"/></a>"
      ]
    },
    {
      "cell_type": "markdown",
      "source": [
        "### Importación de datos\n",
        "\n"
      ],
      "metadata": {
        "id": "RhEdWd9YUR6H"
      }
    },
    {
      "cell_type": "code",
      "source": [
        "import pandas as pd"
      ],
      "metadata": {
        "id": "hfoLEvCXkTWS"
      },
      "execution_count": 12,
      "outputs": []
    },
    {
      "cell_type": "code",
      "source": [
        "tiendaA = pd.read_csv(\"/content/tienda_1 .csv\")"
      ],
      "metadata": {
        "id": "8--A9p65nIA5"
      },
      "execution_count": 13,
      "outputs": []
    },
    {
      "cell_type": "code",
      "source": [
        "tiendaA.head()"
      ],
      "metadata": {
        "id": "fN1Q-AYwnZIN",
        "outputId": "be6e720b-803c-4b57-b355-7154f1999928",
        "colab": {
          "base_uri": "https://localhost:8080/",
          "height": 293
        }
      },
      "execution_count": 14,
      "outputs": [
        {
          "output_type": "execute_result",
          "data": {
            "text/plain": [
              "            Producto Categoría del Producto    Precio  Costo de envío  \\\n",
              "0  Asistente virtual           Electrónicos  164300.0          6900.0   \n",
              "1    Mesa de comedor                Muebles  192300.0          8400.0   \n",
              "2      Juego de mesa               Juguetes  209600.0         15900.0   \n",
              "3         Microondas      Electrodomésticos  757500.0         41000.0   \n",
              "4   Silla de oficina                Muebles  335200.0         20200.0   \n",
              "\n",
              "  Fecha de Compra         Vendedor Lugar de Compra  Calificación  \\\n",
              "0      16/01/2021      Pedro Gomez          Bogotá             4   \n",
              "1      18/05/2022  Beatriz Morales        Medellín             1   \n",
              "2      15/03/2021   Juan Fernandez       Cartagena             1   \n",
              "3      03/05/2022   Juan Fernandez            Cali             4   \n",
              "4      07/11/2020    Maria Alfonso        Medellín             5   \n",
              "\n",
              "       Método de pago  Cantidad de cuotas       lat       lon  \n",
              "0  Tarjeta de crédito                   8   4.60971 -74.08175  \n",
              "1  Tarjeta de crédito                   4   6.25184 -75.56359  \n",
              "2  Tarjeta de crédito                   1  10.39972 -75.51444  \n",
              "3               Nequi                   1   3.43722 -76.52250  \n",
              "4               Nequi                   1   6.25184 -75.56359  "
            ],
            "text/html": [
              "\n",
              "  <div id=\"df-9062ce0a-579d-4e0e-97a7-6f8164a86f65\" class=\"colab-df-container\">\n",
              "    <div>\n",
              "<style scoped>\n",
              "    .dataframe tbody tr th:only-of-type {\n",
              "        vertical-align: middle;\n",
              "    }\n",
              "\n",
              "    .dataframe tbody tr th {\n",
              "        vertical-align: top;\n",
              "    }\n",
              "\n",
              "    .dataframe thead th {\n",
              "        text-align: right;\n",
              "    }\n",
              "</style>\n",
              "<table border=\"1\" class=\"dataframe\">\n",
              "  <thead>\n",
              "    <tr style=\"text-align: right;\">\n",
              "      <th></th>\n",
              "      <th>Producto</th>\n",
              "      <th>Categoría del Producto</th>\n",
              "      <th>Precio</th>\n",
              "      <th>Costo de envío</th>\n",
              "      <th>Fecha de Compra</th>\n",
              "      <th>Vendedor</th>\n",
              "      <th>Lugar de Compra</th>\n",
              "      <th>Calificación</th>\n",
              "      <th>Método de pago</th>\n",
              "      <th>Cantidad de cuotas</th>\n",
              "      <th>lat</th>\n",
              "      <th>lon</th>\n",
              "    </tr>\n",
              "  </thead>\n",
              "  <tbody>\n",
              "    <tr>\n",
              "      <th>0</th>\n",
              "      <td>Asistente virtual</td>\n",
              "      <td>Electrónicos</td>\n",
              "      <td>164300.0</td>\n",
              "      <td>6900.0</td>\n",
              "      <td>16/01/2021</td>\n",
              "      <td>Pedro Gomez</td>\n",
              "      <td>Bogotá</td>\n",
              "      <td>4</td>\n",
              "      <td>Tarjeta de crédito</td>\n",
              "      <td>8</td>\n",
              "      <td>4.60971</td>\n",
              "      <td>-74.08175</td>\n",
              "    </tr>\n",
              "    <tr>\n",
              "      <th>1</th>\n",
              "      <td>Mesa de comedor</td>\n",
              "      <td>Muebles</td>\n",
              "      <td>192300.0</td>\n",
              "      <td>8400.0</td>\n",
              "      <td>18/05/2022</td>\n",
              "      <td>Beatriz Morales</td>\n",
              "      <td>Medellín</td>\n",
              "      <td>1</td>\n",
              "      <td>Tarjeta de crédito</td>\n",
              "      <td>4</td>\n",
              "      <td>6.25184</td>\n",
              "      <td>-75.56359</td>\n",
              "    </tr>\n",
              "    <tr>\n",
              "      <th>2</th>\n",
              "      <td>Juego de mesa</td>\n",
              "      <td>Juguetes</td>\n",
              "      <td>209600.0</td>\n",
              "      <td>15900.0</td>\n",
              "      <td>15/03/2021</td>\n",
              "      <td>Juan Fernandez</td>\n",
              "      <td>Cartagena</td>\n",
              "      <td>1</td>\n",
              "      <td>Tarjeta de crédito</td>\n",
              "      <td>1</td>\n",
              "      <td>10.39972</td>\n",
              "      <td>-75.51444</td>\n",
              "    </tr>\n",
              "    <tr>\n",
              "      <th>3</th>\n",
              "      <td>Microondas</td>\n",
              "      <td>Electrodomésticos</td>\n",
              "      <td>757500.0</td>\n",
              "      <td>41000.0</td>\n",
              "      <td>03/05/2022</td>\n",
              "      <td>Juan Fernandez</td>\n",
              "      <td>Cali</td>\n",
              "      <td>4</td>\n",
              "      <td>Nequi</td>\n",
              "      <td>1</td>\n",
              "      <td>3.43722</td>\n",
              "      <td>-76.52250</td>\n",
              "    </tr>\n",
              "    <tr>\n",
              "      <th>4</th>\n",
              "      <td>Silla de oficina</td>\n",
              "      <td>Muebles</td>\n",
              "      <td>335200.0</td>\n",
              "      <td>20200.0</td>\n",
              "      <td>07/11/2020</td>\n",
              "      <td>Maria Alfonso</td>\n",
              "      <td>Medellín</td>\n",
              "      <td>5</td>\n",
              "      <td>Nequi</td>\n",
              "      <td>1</td>\n",
              "      <td>6.25184</td>\n",
              "      <td>-75.56359</td>\n",
              "    </tr>\n",
              "  </tbody>\n",
              "</table>\n",
              "</div>\n",
              "    <div class=\"colab-df-buttons\">\n",
              "\n",
              "  <div class=\"colab-df-container\">\n",
              "    <button class=\"colab-df-convert\" onclick=\"convertToInteractive('df-9062ce0a-579d-4e0e-97a7-6f8164a86f65')\"\n",
              "            title=\"Convert this dataframe to an interactive table.\"\n",
              "            style=\"display:none;\">\n",
              "\n",
              "  <svg xmlns=\"http://www.w3.org/2000/svg\" height=\"24px\" viewBox=\"0 -960 960 960\">\n",
              "    <path d=\"M120-120v-720h720v720H120Zm60-500h600v-160H180v160Zm220 220h160v-160H400v160Zm0 220h160v-160H400v160ZM180-400h160v-160H180v160Zm440 0h160v-160H620v160ZM180-180h160v-160H180v160Zm440 0h160v-160H620v160Z\"/>\n",
              "  </svg>\n",
              "    </button>\n",
              "\n",
              "  <style>\n",
              "    .colab-df-container {\n",
              "      display:flex;\n",
              "      gap: 12px;\n",
              "    }\n",
              "\n",
              "    .colab-df-convert {\n",
              "      background-color: #E8F0FE;\n",
              "      border: none;\n",
              "      border-radius: 50%;\n",
              "      cursor: pointer;\n",
              "      display: none;\n",
              "      fill: #1967D2;\n",
              "      height: 32px;\n",
              "      padding: 0 0 0 0;\n",
              "      width: 32px;\n",
              "    }\n",
              "\n",
              "    .colab-df-convert:hover {\n",
              "      background-color: #E2EBFA;\n",
              "      box-shadow: 0px 1px 2px rgba(60, 64, 67, 0.3), 0px 1px 3px 1px rgba(60, 64, 67, 0.15);\n",
              "      fill: #174EA6;\n",
              "    }\n",
              "\n",
              "    .colab-df-buttons div {\n",
              "      margin-bottom: 4px;\n",
              "    }\n",
              "\n",
              "    [theme=dark] .colab-df-convert {\n",
              "      background-color: #3B4455;\n",
              "      fill: #D2E3FC;\n",
              "    }\n",
              "\n",
              "    [theme=dark] .colab-df-convert:hover {\n",
              "      background-color: #434B5C;\n",
              "      box-shadow: 0px 1px 3px 1px rgba(0, 0, 0, 0.15);\n",
              "      filter: drop-shadow(0px 1px 2px rgba(0, 0, 0, 0.3));\n",
              "      fill: #FFFFFF;\n",
              "    }\n",
              "  </style>\n",
              "\n",
              "    <script>\n",
              "      const buttonEl =\n",
              "        document.querySelector('#df-9062ce0a-579d-4e0e-97a7-6f8164a86f65 button.colab-df-convert');\n",
              "      buttonEl.style.display =\n",
              "        google.colab.kernel.accessAllowed ? 'block' : 'none';\n",
              "\n",
              "      async function convertToInteractive(key) {\n",
              "        const element = document.querySelector('#df-9062ce0a-579d-4e0e-97a7-6f8164a86f65');\n",
              "        const dataTable =\n",
              "          await google.colab.kernel.invokeFunction('convertToInteractive',\n",
              "                                                    [key], {});\n",
              "        if (!dataTable) return;\n",
              "\n",
              "        const docLinkHtml = 'Like what you see? Visit the ' +\n",
              "          '<a target=\"_blank\" href=https://colab.research.google.com/notebooks/data_table.ipynb>data table notebook</a>'\n",
              "          + ' to learn more about interactive tables.';\n",
              "        element.innerHTML = '';\n",
              "        dataTable['output_type'] = 'display_data';\n",
              "        await google.colab.output.renderOutput(dataTable, element);\n",
              "        const docLink = document.createElement('div');\n",
              "        docLink.innerHTML = docLinkHtml;\n",
              "        element.appendChild(docLink);\n",
              "      }\n",
              "    </script>\n",
              "  </div>\n",
              "\n",
              "\n",
              "    <div id=\"df-dc84470c-2e28-48ca-8e8c-317c8c49931f\">\n",
              "      <button class=\"colab-df-quickchart\" onclick=\"quickchart('df-dc84470c-2e28-48ca-8e8c-317c8c49931f')\"\n",
              "                title=\"Suggest charts\"\n",
              "                style=\"display:none;\">\n",
              "\n",
              "<svg xmlns=\"http://www.w3.org/2000/svg\" height=\"24px\"viewBox=\"0 0 24 24\"\n",
              "     width=\"24px\">\n",
              "    <g>\n",
              "        <path d=\"M19 3H5c-1.1 0-2 .9-2 2v14c0 1.1.9 2 2 2h14c1.1 0 2-.9 2-2V5c0-1.1-.9-2-2-2zM9 17H7v-7h2v7zm4 0h-2V7h2v10zm4 0h-2v-4h2v4z\"/>\n",
              "    </g>\n",
              "</svg>\n",
              "      </button>\n",
              "\n",
              "<style>\n",
              "  .colab-df-quickchart {\n",
              "      --bg-color: #E8F0FE;\n",
              "      --fill-color: #1967D2;\n",
              "      --hover-bg-color: #E2EBFA;\n",
              "      --hover-fill-color: #174EA6;\n",
              "      --disabled-fill-color: #AAA;\n",
              "      --disabled-bg-color: #DDD;\n",
              "  }\n",
              "\n",
              "  [theme=dark] .colab-df-quickchart {\n",
              "      --bg-color: #3B4455;\n",
              "      --fill-color: #D2E3FC;\n",
              "      --hover-bg-color: #434B5C;\n",
              "      --hover-fill-color: #FFFFFF;\n",
              "      --disabled-bg-color: #3B4455;\n",
              "      --disabled-fill-color: #666;\n",
              "  }\n",
              "\n",
              "  .colab-df-quickchart {\n",
              "    background-color: var(--bg-color);\n",
              "    border: none;\n",
              "    border-radius: 50%;\n",
              "    cursor: pointer;\n",
              "    display: none;\n",
              "    fill: var(--fill-color);\n",
              "    height: 32px;\n",
              "    padding: 0;\n",
              "    width: 32px;\n",
              "  }\n",
              "\n",
              "  .colab-df-quickchart:hover {\n",
              "    background-color: var(--hover-bg-color);\n",
              "    box-shadow: 0 1px 2px rgba(60, 64, 67, 0.3), 0 1px 3px 1px rgba(60, 64, 67, 0.15);\n",
              "    fill: var(--button-hover-fill-color);\n",
              "  }\n",
              "\n",
              "  .colab-df-quickchart-complete:disabled,\n",
              "  .colab-df-quickchart-complete:disabled:hover {\n",
              "    background-color: var(--disabled-bg-color);\n",
              "    fill: var(--disabled-fill-color);\n",
              "    box-shadow: none;\n",
              "  }\n",
              "\n",
              "  .colab-df-spinner {\n",
              "    border: 2px solid var(--fill-color);\n",
              "    border-color: transparent;\n",
              "    border-bottom-color: var(--fill-color);\n",
              "    animation:\n",
              "      spin 1s steps(1) infinite;\n",
              "  }\n",
              "\n",
              "  @keyframes spin {\n",
              "    0% {\n",
              "      border-color: transparent;\n",
              "      border-bottom-color: var(--fill-color);\n",
              "      border-left-color: var(--fill-color);\n",
              "    }\n",
              "    20% {\n",
              "      border-color: transparent;\n",
              "      border-left-color: var(--fill-color);\n",
              "      border-top-color: var(--fill-color);\n",
              "    }\n",
              "    30% {\n",
              "      border-color: transparent;\n",
              "      border-left-color: var(--fill-color);\n",
              "      border-top-color: var(--fill-color);\n",
              "      border-right-color: var(--fill-color);\n",
              "    }\n",
              "    40% {\n",
              "      border-color: transparent;\n",
              "      border-right-color: var(--fill-color);\n",
              "      border-top-color: var(--fill-color);\n",
              "    }\n",
              "    60% {\n",
              "      border-color: transparent;\n",
              "      border-right-color: var(--fill-color);\n",
              "    }\n",
              "    80% {\n",
              "      border-color: transparent;\n",
              "      border-right-color: var(--fill-color);\n",
              "      border-bottom-color: var(--fill-color);\n",
              "    }\n",
              "    90% {\n",
              "      border-color: transparent;\n",
              "      border-bottom-color: var(--fill-color);\n",
              "    }\n",
              "  }\n",
              "</style>\n",
              "\n",
              "      <script>\n",
              "        async function quickchart(key) {\n",
              "          const quickchartButtonEl =\n",
              "            document.querySelector('#' + key + ' button');\n",
              "          quickchartButtonEl.disabled = true;  // To prevent multiple clicks.\n",
              "          quickchartButtonEl.classList.add('colab-df-spinner');\n",
              "          try {\n",
              "            const charts = await google.colab.kernel.invokeFunction(\n",
              "                'suggestCharts', [key], {});\n",
              "          } catch (error) {\n",
              "            console.error('Error during call to suggestCharts:', error);\n",
              "          }\n",
              "          quickchartButtonEl.classList.remove('colab-df-spinner');\n",
              "          quickchartButtonEl.classList.add('colab-df-quickchart-complete');\n",
              "        }\n",
              "        (() => {\n",
              "          let quickchartButtonEl =\n",
              "            document.querySelector('#df-dc84470c-2e28-48ca-8e8c-317c8c49931f button');\n",
              "          quickchartButtonEl.style.display =\n",
              "            google.colab.kernel.accessAllowed ? 'block' : 'none';\n",
              "        })();\n",
              "      </script>\n",
              "    </div>\n",
              "\n",
              "    </div>\n",
              "  </div>\n"
            ],
            "application/vnd.google.colaboratory.intrinsic+json": {
              "type": "dataframe",
              "variable_name": "tiendaA",
              "summary": "{\n  \"name\": \"tiendaA\",\n  \"rows\": 2359,\n  \"fields\": [\n    {\n      \"column\": \"Producto\",\n      \"properties\": {\n        \"dtype\": \"category\",\n        \"num_unique_values\": 51,\n        \"samples\": [\n          \"Guitarra ac\\u00fastica\",\n          \"Bal\\u00f3n de baloncesto\",\n          \"Smartwatch\"\n        ],\n        \"semantic_type\": \"\",\n        \"description\": \"\"\n      }\n    },\n    {\n      \"column\": \"Categor\\u00eda del Producto\",\n      \"properties\": {\n        \"dtype\": \"category\",\n        \"num_unique_values\": 8,\n        \"samples\": [\n          \"Muebles\",\n          \"Deportes y diversi\\u00f3n\",\n          \"Electr\\u00f3nicos\"\n        ],\n        \"semantic_type\": \"\",\n        \"description\": \"\"\n      }\n    },\n    {\n      \"column\": \"Precio\",\n      \"properties\": {\n        \"dtype\": \"number\",\n        \"std\": 614686.7653873172,\n        \"min\": 7600.0,\n        \"max\": 2977000.0,\n        \"num_unique_values\": 1937,\n        \"samples\": [\n          2499400.0,\n          14800.0,\n          80500.0\n        ],\n        \"semantic_type\": \"\",\n        \"description\": \"\"\n      }\n    },\n    {\n      \"column\": \"Costo de env\\u00edo\",\n      \"properties\": {\n        \"dtype\": \"number\",\n        \"std\": 32860.0017825605,\n        \"min\": 0.0,\n        \"max\": 160800.0,\n        \"num_unique_values\": 753,\n        \"samples\": [\n          117800.0,\n          54700.0,\n          45600.0\n        ],\n        \"semantic_type\": \"\",\n        \"description\": \"\"\n      }\n    },\n    {\n      \"column\": \"Fecha de Compra\",\n      \"properties\": {\n        \"dtype\": \"object\",\n        \"num_unique_values\": 1018,\n        \"samples\": [\n          \"15/09/2022\",\n          \"03/06/2020\",\n          \"06/11/2021\"\n        ],\n        \"semantic_type\": \"\",\n        \"description\": \"\"\n      }\n    },\n    {\n      \"column\": \"Vendedor\",\n      \"properties\": {\n        \"dtype\": \"category\",\n        \"num_unique_values\": 14,\n        \"samples\": [\n          \"Juliana Costa\",\n          \"Mariana Herrera\",\n          \"Pedro Gomez\"\n        ],\n        \"semantic_type\": \"\",\n        \"description\": \"\"\n      }\n    },\n    {\n      \"column\": \"Lugar de Compra\",\n      \"properties\": {\n        \"dtype\": \"category\",\n        \"num_unique_values\": 19,\n        \"samples\": [\n          \"Bogot\\u00e1\",\n          \"Pereira\",\n          \"Neiva\"\n        ],\n        \"semantic_type\": \"\",\n        \"description\": \"\"\n      }\n    },\n    {\n      \"column\": \"Calificaci\\u00f3n\",\n      \"properties\": {\n        \"dtype\": \"number\",\n        \"std\": 1,\n        \"min\": 1,\n        \"max\": 5,\n        \"num_unique_values\": 5,\n        \"samples\": [\n          1,\n          2,\n          5\n        ],\n        \"semantic_type\": \"\",\n        \"description\": \"\"\n      }\n    },\n    {\n      \"column\": \"M\\u00e9todo de pago\",\n      \"properties\": {\n        \"dtype\": \"category\",\n        \"num_unique_values\": 4,\n        \"samples\": [\n          \"Nequi\",\n          \"Tarjeta de d\\u00e9bito\",\n          \"Tarjeta de cr\\u00e9dito\"\n        ],\n        \"semantic_type\": \"\",\n        \"description\": \"\"\n      }\n    },\n    {\n      \"column\": \"Cantidad de cuotas\",\n      \"properties\": {\n        \"dtype\": \"number\",\n        \"std\": 2,\n        \"min\": 1,\n        \"max\": 24,\n        \"num_unique_values\": 15,\n        \"samples\": [\n          7,\n          14,\n          8\n        ],\n        \"semantic_type\": \"\",\n        \"description\": \"\"\n      }\n    },\n    {\n      \"column\": \"lat\",\n      \"properties\": {\n        \"dtype\": \"number\",\n        \"std\": 2.2874452492678627,\n        \"min\": -4.21528,\n        \"max\": 11.54444,\n        \"num_unique_values\": 19,\n        \"samples\": [\n          4.60971,\n          4.81333,\n          2.9273\n        ],\n        \"semantic_type\": \"\",\n        \"description\": \"\"\n      }\n    },\n    {\n      \"column\": \"lon\",\n      \"properties\": {\n        \"dtype\": \"number\",\n        \"std\": 1.2178272727088486,\n        \"min\": -77.28111,\n        \"max\": -67.9239,\n        \"num_unique_values\": 19,\n        \"samples\": [\n          -74.08175,\n          -75.69611,\n          -75.28189\n        ],\n        \"semantic_type\": \"\",\n        \"description\": \"\"\n      }\n    }\n  ]\n}"
            }
          },
          "metadata": {},
          "execution_count": 14
        }
      ]
    },
    {
      "cell_type": "code",
      "source": [
        "tiendaA.info()"
      ],
      "metadata": {
        "colab": {
          "base_uri": "https://localhost:8080/"
        },
        "id": "9OW4w9t1xLx8",
        "outputId": "4a21ae64-be8f-4d11-d222-19e52233a030"
      },
      "execution_count": 71,
      "outputs": [
        {
          "output_type": "stream",
          "name": "stdout",
          "text": [
            "<class 'pandas.core.frame.DataFrame'>\n",
            "RangeIndex: 2359 entries, 0 to 2358\n",
            "Data columns (total 12 columns):\n",
            " #   Column                  Non-Null Count  Dtype  \n",
            "---  ------                  --------------  -----  \n",
            " 0   Producto                2359 non-null   object \n",
            " 1   Categoría del Producto  2359 non-null   object \n",
            " 2   Precio                  2359 non-null   float64\n",
            " 3   Costo de envío          2359 non-null   float64\n",
            " 4   Fecha de Compra         2359 non-null   object \n",
            " 5   Vendedor                2359 non-null   object \n",
            " 6   Lugar de Compra         2359 non-null   object \n",
            " 7   Calificación            2359 non-null   int64  \n",
            " 8   Método de pago          2359 non-null   object \n",
            " 9   Cantidad de cuotas      2359 non-null   int64  \n",
            " 10  lat                     2359 non-null   float64\n",
            " 11  lon                     2359 non-null   float64\n",
            "dtypes: float64(4), int64(2), object(6)\n",
            "memory usage: 221.3+ KB\n"
          ]
        }
      ]
    },
    {
      "cell_type": "code",
      "source": [
        "tiendaA[\"Categoría del Producto\"].value_counts()"
      ],
      "metadata": {
        "colab": {
          "base_uri": "https://localhost:8080/",
          "height": 366
        },
        "id": "II4wbX65KTly",
        "outputId": "fa07d918-ef91-4fd2-bca4-d9718bdddf26"
      },
      "execution_count": 16,
      "outputs": [
        {
          "output_type": "execute_result",
          "data": {
            "text/plain": [
              "Categoría del Producto\n",
              "Muebles                    465\n",
              "Electrónicos               448\n",
              "Juguetes                   324\n",
              "Electrodomésticos          312\n",
              "Deportes y diversión       284\n",
              "Instrumentos musicales     182\n",
              "Libros                     173\n",
              "Artículos para el hogar    171\n",
              "Name: count, dtype: int64"
            ],
            "text/html": [
              "<div>\n",
              "<style scoped>\n",
              "    .dataframe tbody tr th:only-of-type {\n",
              "        vertical-align: middle;\n",
              "    }\n",
              "\n",
              "    .dataframe tbody tr th {\n",
              "        vertical-align: top;\n",
              "    }\n",
              "\n",
              "    .dataframe thead th {\n",
              "        text-align: right;\n",
              "    }\n",
              "</style>\n",
              "<table border=\"1\" class=\"dataframe\">\n",
              "  <thead>\n",
              "    <tr style=\"text-align: right;\">\n",
              "      <th></th>\n",
              "      <th>count</th>\n",
              "    </tr>\n",
              "    <tr>\n",
              "      <th>Categoría del Producto</th>\n",
              "      <th></th>\n",
              "    </tr>\n",
              "  </thead>\n",
              "  <tbody>\n",
              "    <tr>\n",
              "      <th>Muebles</th>\n",
              "      <td>465</td>\n",
              "    </tr>\n",
              "    <tr>\n",
              "      <th>Electrónicos</th>\n",
              "      <td>448</td>\n",
              "    </tr>\n",
              "    <tr>\n",
              "      <th>Juguetes</th>\n",
              "      <td>324</td>\n",
              "    </tr>\n",
              "    <tr>\n",
              "      <th>Electrodomésticos</th>\n",
              "      <td>312</td>\n",
              "    </tr>\n",
              "    <tr>\n",
              "      <th>Deportes y diversión</th>\n",
              "      <td>284</td>\n",
              "    </tr>\n",
              "    <tr>\n",
              "      <th>Instrumentos musicales</th>\n",
              "      <td>182</td>\n",
              "    </tr>\n",
              "    <tr>\n",
              "      <th>Libros</th>\n",
              "      <td>173</td>\n",
              "    </tr>\n",
              "    <tr>\n",
              "      <th>Artículos para el hogar</th>\n",
              "      <td>171</td>\n",
              "    </tr>\n",
              "  </tbody>\n",
              "</table>\n",
              "</div><br><label><b>dtype:</b> int64</label>"
            ]
          },
          "metadata": {},
          "execution_count": 16
        }
      ]
    },
    {
      "cell_type": "code",
      "source": [
        "sorted(tiendaA[\"Categoría del Producto\"].unique())"
      ],
      "metadata": {
        "colab": {
          "base_uri": "https://localhost:8080/"
        },
        "id": "cHlLmat3G7XR",
        "outputId": "5eb42492-04c4-458a-d7c7-9754662c6399"
      },
      "execution_count": 17,
      "outputs": [
        {
          "output_type": "execute_result",
          "data": {
            "text/plain": [
              "['Artículos para el hogar',\n",
              " 'Deportes y diversión',\n",
              " 'Electrodomésticos',\n",
              " 'Electrónicos',\n",
              " 'Instrumentos musicales',\n",
              " 'Juguetes',\n",
              " 'Libros',\n",
              " 'Muebles']"
            ]
          },
          "metadata": {},
          "execution_count": 17
        }
      ]
    },
    {
      "cell_type": "code",
      "source": [
        "tiendaB[\"Categoría del Producto\"].unique()"
      ],
      "metadata": {
        "id": "_04om0XEJbTS",
        "colab": {
          "base_uri": "https://localhost:8080/"
        },
        "outputId": "aa6f2c80-db1d-415b-b6ec-79aa8b4536c3"
      },
      "execution_count": 18,
      "outputs": [
        {
          "output_type": "execute_result",
          "data": {
            "text/plain": [
              "array(['Muebles', 'Instrumentos musicales', 'Deportes y diversión',\n",
              "       'Electrónicos', 'Artículos para el hogar', 'Juguetes',\n",
              "       'Electrodomésticos', 'Libros'], dtype=object)"
            ]
          },
          "metadata": {},
          "execution_count": 18
        }
      ]
    },
    {
      "cell_type": "code",
      "source": [
        "tiendaA[\"Categoría del Producto\"].unique()"
      ],
      "metadata": {
        "colab": {
          "base_uri": "https://localhost:8080/"
        },
        "id": "u5h3UETax6hz",
        "outputId": "32e10db8-ed96-4f67-a798-0477a8b86ce1"
      },
      "execution_count": 19,
      "outputs": [
        {
          "output_type": "execute_result",
          "data": {
            "text/plain": [
              "array(['Electrónicos', 'Muebles', 'Juguetes', 'Electrodomésticos',\n",
              "       'Artículos para el hogar', 'Deportes y diversión', 'Libros',\n",
              "       'Instrumentos musicales'], dtype=object)"
            ]
          },
          "metadata": {},
          "execution_count": 19
        }
      ]
    },
    {
      "cell_type": "code",
      "source": [
        "tiendaA[\"Precio\"].info()\n",
        "print(tiendaA[\"Precio\"].unique())"
      ],
      "metadata": {
        "id": "CUNZoKF6S3iG",
        "outputId": "b0544cbd-92ed-4afd-dc34-d1e3f74a48aa",
        "colab": {
          "base_uri": "https://localhost:8080/"
        }
      },
      "execution_count": 82,
      "outputs": [
        {
          "output_type": "stream",
          "name": "stdout",
          "text": [
            "<class 'pandas.core.series.Series'>\n",
            "RangeIndex: 2359 entries, 0 to 2358\n",
            "Series name: Precio\n",
            "Non-Null Count  Dtype  \n",
            "--------------  -----  \n",
            "2359 non-null   float64\n",
            "dtypes: float64(1)\n",
            "memory usage: 18.6 KB\n",
            "[ 164300.  192300.  209600. ... 1284400.  691300.  195000.]\n"
          ]
        }
      ]
    },
    {
      "cell_type": "code",
      "source": [
        "tiendaA.Precio.max()"
      ],
      "metadata": {
        "id": "SNG_Y_Wu2GQF",
        "colab": {
          "base_uri": "https://localhost:8080/"
        },
        "outputId": "91984ec0-9a9c-4224-f6bd-f3d8462bd4c9"
      },
      "execution_count": 21,
      "outputs": [
        {
          "output_type": "execute_result",
          "data": {
            "text/plain": [
              "2977000.0"
            ]
          },
          "metadata": {},
          "execution_count": 21
        }
      ]
    },
    {
      "cell_type": "code",
      "source": [
        "tiendaB.info()"
      ],
      "metadata": {
        "id": "GWyDVKE82gr_",
        "colab": {
          "base_uri": "https://localhost:8080/"
        },
        "outputId": "b251a5ab-710a-42f5-f336-47dad1b2df32"
      },
      "execution_count": 22,
      "outputs": [
        {
          "output_type": "stream",
          "name": "stdout",
          "text": [
            "<class 'pandas.core.frame.DataFrame'>\n",
            "RangeIndex: 2359 entries, 0 to 2358\n",
            "Data columns (total 12 columns):\n",
            " #   Column                  Non-Null Count  Dtype  \n",
            "---  ------                  --------------  -----  \n",
            " 0   Producto                2359 non-null   object \n",
            " 1   Categoría del Producto  2359 non-null   object \n",
            " 2   Precio                  2359 non-null   float64\n",
            " 3   Costo de envío          2359 non-null   float64\n",
            " 4   Fecha de Compra         2359 non-null   object \n",
            " 5   Vendedor                2359 non-null   object \n",
            " 6   Lugar de Compra         2359 non-null   object \n",
            " 7   Calificación            2359 non-null   int64  \n",
            " 8   Método de pago          2359 non-null   object \n",
            " 9   Cantidad de cuotas      2359 non-null   int64  \n",
            " 10  lat                     2359 non-null   float64\n",
            " 11  lon                     2359 non-null   float64\n",
            "dtypes: float64(4), int64(2), object(6)\n",
            "memory usage: 221.3+ KB\n"
          ]
        }
      ]
    },
    {
      "cell_type": "code",
      "source": [
        "tiendaC.info()"
      ],
      "metadata": {
        "id": "SFe7NzMZ2hJS",
        "colab": {
          "base_uri": "https://localhost:8080/"
        },
        "outputId": "af1ca013-b7a1-4502-90d7-a575d8683e6a"
      },
      "execution_count": 23,
      "outputs": [
        {
          "output_type": "stream",
          "name": "stdout",
          "text": [
            "<class 'pandas.core.frame.DataFrame'>\n",
            "RangeIndex: 2359 entries, 0 to 2358\n",
            "Data columns (total 12 columns):\n",
            " #   Column                  Non-Null Count  Dtype  \n",
            "---  ------                  --------------  -----  \n",
            " 0   Producto                2359 non-null   object \n",
            " 1   Categoría del Producto  2359 non-null   object \n",
            " 2   Precio                  2359 non-null   float64\n",
            " 3   Costo de envío          2359 non-null   float64\n",
            " 4   Fecha de Compra         2359 non-null   object \n",
            " 5   Vendedor                2359 non-null   object \n",
            " 6   Lugar de Compra         2359 non-null   object \n",
            " 7   Calificación            2359 non-null   int64  \n",
            " 8   Método de pago          2359 non-null   object \n",
            " 9   Cantidad de cuotas      2359 non-null   int64  \n",
            " 10  lat                     2359 non-null   float64\n",
            " 11  lon                     2359 non-null   float64\n",
            "dtypes: float64(4), int64(2), object(6)\n",
            "memory usage: 221.3+ KB\n"
          ]
        }
      ]
    },
    {
      "cell_type": "code",
      "source": [
        "tiendaD.info()"
      ],
      "metadata": {
        "id": "-z0NcFpt2hMl",
        "colab": {
          "base_uri": "https://localhost:8080/"
        },
        "outputId": "a3cf0264-c44e-4e14-c3c8-841ddbc86ccf"
      },
      "execution_count": 24,
      "outputs": [
        {
          "output_type": "stream",
          "name": "stdout",
          "text": [
            "<class 'pandas.core.frame.DataFrame'>\n",
            "RangeIndex: 2358 entries, 0 to 2357\n",
            "Data columns (total 12 columns):\n",
            " #   Column                  Non-Null Count  Dtype  \n",
            "---  ------                  --------------  -----  \n",
            " 0   Producto                2358 non-null   object \n",
            " 1   Categoría del Producto  2358 non-null   object \n",
            " 2   Precio                  2358 non-null   float64\n",
            " 3   Costo de envío          2358 non-null   float64\n",
            " 4   Fecha de Compra         2358 non-null   object \n",
            " 5   Vendedor                2358 non-null   object \n",
            " 6   Lugar de Compra         2358 non-null   object \n",
            " 7   Calificación            2358 non-null   int64  \n",
            " 8   Método de pago          2358 non-null   object \n",
            " 9   Cantidad de cuotas      2358 non-null   int64  \n",
            " 10  lat                     2358 non-null   float64\n",
            " 11  lon                     2358 non-null   float64\n",
            "dtypes: float64(4), int64(2), object(6)\n",
            "memory usage: 221.2+ KB\n"
          ]
        }
      ]
    },
    {
      "cell_type": "code",
      "source": [
        "tiendaB = pd.read_csv(\"/content/tienda_2.csv\")"
      ],
      "metadata": {
        "id": "W7r8GhllnpTo"
      },
      "execution_count": 25,
      "outputs": []
    },
    {
      "cell_type": "code",
      "source": [
        "tiendaB.head()"
      ],
      "metadata": {
        "id": "c0J-ZkO_s0lT",
        "colab": {
          "base_uri": "https://localhost:8080/",
          "height": 310
        },
        "outputId": "203f65cf-8804-40f8-8eb9-01a9d3b270e9"
      },
      "execution_count": 26,
      "outputs": [
        {
          "output_type": "execute_result",
          "data": {
            "text/plain": [
              "           Producto  Categoría del Producto    Precio  Costo de envío  \\\n",
              "0  Silla de oficina                 Muebles  283600.0         15300.0   \n",
              "1         Pandereta  Instrumentos musicales   76800.0          2300.0   \n",
              "2         Cama king                 Muebles  443300.0         23800.0   \n",
              "3         Cama king                 Muebles  906200.0         46400.0   \n",
              "4  Silla de oficina                 Muebles  397800.0         19400.0   \n",
              "\n",
              "  Fecha de Compra         Vendedor Lugar de Compra  Calificación  \\\n",
              "0      04/08/2021  Izabela de León        Medellín             1   \n",
              "1      26/11/2020   Blanca Ramirez        Medellín             3   \n",
              "2      22/10/2021  Izabela de León         Pereira             5   \n",
              "3      04/05/2022    Maria Alfonso            Cali             5   \n",
              "4      26/02/2022    Lucas Olivera          Bogotá             4   \n",
              "\n",
              "       Método de pago  Cantidad de cuotas      lat       lon  \n",
              "0               Nequi                   1  6.25184 -75.56359  \n",
              "1  Tarjeta de crédito                   4  6.25184 -75.56359  \n",
              "2  Tarjeta de crédito                  10  4.81333 -75.69611  \n",
              "3  Tarjeta de crédito                  10  3.43722 -76.52250  \n",
              "4  Tarjeta de crédito                   3  4.60971 -74.08175  "
            ],
            "text/html": [
              "\n",
              "  <div id=\"df-553343b1-4176-465a-807d-57f52f7b65f8\" class=\"colab-df-container\">\n",
              "    <div>\n",
              "<style scoped>\n",
              "    .dataframe tbody tr th:only-of-type {\n",
              "        vertical-align: middle;\n",
              "    }\n",
              "\n",
              "    .dataframe tbody tr th {\n",
              "        vertical-align: top;\n",
              "    }\n",
              "\n",
              "    .dataframe thead th {\n",
              "        text-align: right;\n",
              "    }\n",
              "</style>\n",
              "<table border=\"1\" class=\"dataframe\">\n",
              "  <thead>\n",
              "    <tr style=\"text-align: right;\">\n",
              "      <th></th>\n",
              "      <th>Producto</th>\n",
              "      <th>Categoría del Producto</th>\n",
              "      <th>Precio</th>\n",
              "      <th>Costo de envío</th>\n",
              "      <th>Fecha de Compra</th>\n",
              "      <th>Vendedor</th>\n",
              "      <th>Lugar de Compra</th>\n",
              "      <th>Calificación</th>\n",
              "      <th>Método de pago</th>\n",
              "      <th>Cantidad de cuotas</th>\n",
              "      <th>lat</th>\n",
              "      <th>lon</th>\n",
              "    </tr>\n",
              "  </thead>\n",
              "  <tbody>\n",
              "    <tr>\n",
              "      <th>0</th>\n",
              "      <td>Silla de oficina</td>\n",
              "      <td>Muebles</td>\n",
              "      <td>283600.0</td>\n",
              "      <td>15300.0</td>\n",
              "      <td>04/08/2021</td>\n",
              "      <td>Izabela de León</td>\n",
              "      <td>Medellín</td>\n",
              "      <td>1</td>\n",
              "      <td>Nequi</td>\n",
              "      <td>1</td>\n",
              "      <td>6.25184</td>\n",
              "      <td>-75.56359</td>\n",
              "    </tr>\n",
              "    <tr>\n",
              "      <th>1</th>\n",
              "      <td>Pandereta</td>\n",
              "      <td>Instrumentos musicales</td>\n",
              "      <td>76800.0</td>\n",
              "      <td>2300.0</td>\n",
              "      <td>26/11/2020</td>\n",
              "      <td>Blanca Ramirez</td>\n",
              "      <td>Medellín</td>\n",
              "      <td>3</td>\n",
              "      <td>Tarjeta de crédito</td>\n",
              "      <td>4</td>\n",
              "      <td>6.25184</td>\n",
              "      <td>-75.56359</td>\n",
              "    </tr>\n",
              "    <tr>\n",
              "      <th>2</th>\n",
              "      <td>Cama king</td>\n",
              "      <td>Muebles</td>\n",
              "      <td>443300.0</td>\n",
              "      <td>23800.0</td>\n",
              "      <td>22/10/2021</td>\n",
              "      <td>Izabela de León</td>\n",
              "      <td>Pereira</td>\n",
              "      <td>5</td>\n",
              "      <td>Tarjeta de crédito</td>\n",
              "      <td>10</td>\n",
              "      <td>4.81333</td>\n",
              "      <td>-75.69611</td>\n",
              "    </tr>\n",
              "    <tr>\n",
              "      <th>3</th>\n",
              "      <td>Cama king</td>\n",
              "      <td>Muebles</td>\n",
              "      <td>906200.0</td>\n",
              "      <td>46400.0</td>\n",
              "      <td>04/05/2022</td>\n",
              "      <td>Maria Alfonso</td>\n",
              "      <td>Cali</td>\n",
              "      <td>5</td>\n",
              "      <td>Tarjeta de crédito</td>\n",
              "      <td>10</td>\n",
              "      <td>3.43722</td>\n",
              "      <td>-76.52250</td>\n",
              "    </tr>\n",
              "    <tr>\n",
              "      <th>4</th>\n",
              "      <td>Silla de oficina</td>\n",
              "      <td>Muebles</td>\n",
              "      <td>397800.0</td>\n",
              "      <td>19400.0</td>\n",
              "      <td>26/02/2022</td>\n",
              "      <td>Lucas Olivera</td>\n",
              "      <td>Bogotá</td>\n",
              "      <td>4</td>\n",
              "      <td>Tarjeta de crédito</td>\n",
              "      <td>3</td>\n",
              "      <td>4.60971</td>\n",
              "      <td>-74.08175</td>\n",
              "    </tr>\n",
              "  </tbody>\n",
              "</table>\n",
              "</div>\n",
              "    <div class=\"colab-df-buttons\">\n",
              "\n",
              "  <div class=\"colab-df-container\">\n",
              "    <button class=\"colab-df-convert\" onclick=\"convertToInteractive('df-553343b1-4176-465a-807d-57f52f7b65f8')\"\n",
              "            title=\"Convert this dataframe to an interactive table.\"\n",
              "            style=\"display:none;\">\n",
              "\n",
              "  <svg xmlns=\"http://www.w3.org/2000/svg\" height=\"24px\" viewBox=\"0 -960 960 960\">\n",
              "    <path d=\"M120-120v-720h720v720H120Zm60-500h600v-160H180v160Zm220 220h160v-160H400v160Zm0 220h160v-160H400v160ZM180-400h160v-160H180v160Zm440 0h160v-160H620v160ZM180-180h160v-160H180v160Zm440 0h160v-160H620v160Z\"/>\n",
              "  </svg>\n",
              "    </button>\n",
              "\n",
              "  <style>\n",
              "    .colab-df-container {\n",
              "      display:flex;\n",
              "      gap: 12px;\n",
              "    }\n",
              "\n",
              "    .colab-df-convert {\n",
              "      background-color: #E8F0FE;\n",
              "      border: none;\n",
              "      border-radius: 50%;\n",
              "      cursor: pointer;\n",
              "      display: none;\n",
              "      fill: #1967D2;\n",
              "      height: 32px;\n",
              "      padding: 0 0 0 0;\n",
              "      width: 32px;\n",
              "    }\n",
              "\n",
              "    .colab-df-convert:hover {\n",
              "      background-color: #E2EBFA;\n",
              "      box-shadow: 0px 1px 2px rgba(60, 64, 67, 0.3), 0px 1px 3px 1px rgba(60, 64, 67, 0.15);\n",
              "      fill: #174EA6;\n",
              "    }\n",
              "\n",
              "    .colab-df-buttons div {\n",
              "      margin-bottom: 4px;\n",
              "    }\n",
              "\n",
              "    [theme=dark] .colab-df-convert {\n",
              "      background-color: #3B4455;\n",
              "      fill: #D2E3FC;\n",
              "    }\n",
              "\n",
              "    [theme=dark] .colab-df-convert:hover {\n",
              "      background-color: #434B5C;\n",
              "      box-shadow: 0px 1px 3px 1px rgba(0, 0, 0, 0.15);\n",
              "      filter: drop-shadow(0px 1px 2px rgba(0, 0, 0, 0.3));\n",
              "      fill: #FFFFFF;\n",
              "    }\n",
              "  </style>\n",
              "\n",
              "    <script>\n",
              "      const buttonEl =\n",
              "        document.querySelector('#df-553343b1-4176-465a-807d-57f52f7b65f8 button.colab-df-convert');\n",
              "      buttonEl.style.display =\n",
              "        google.colab.kernel.accessAllowed ? 'block' : 'none';\n",
              "\n",
              "      async function convertToInteractive(key) {\n",
              "        const element = document.querySelector('#df-553343b1-4176-465a-807d-57f52f7b65f8');\n",
              "        const dataTable =\n",
              "          await google.colab.kernel.invokeFunction('convertToInteractive',\n",
              "                                                    [key], {});\n",
              "        if (!dataTable) return;\n",
              "\n",
              "        const docLinkHtml = 'Like what you see? Visit the ' +\n",
              "          '<a target=\"_blank\" href=https://colab.research.google.com/notebooks/data_table.ipynb>data table notebook</a>'\n",
              "          + ' to learn more about interactive tables.';\n",
              "        element.innerHTML = '';\n",
              "        dataTable['output_type'] = 'display_data';\n",
              "        await google.colab.output.renderOutput(dataTable, element);\n",
              "        const docLink = document.createElement('div');\n",
              "        docLink.innerHTML = docLinkHtml;\n",
              "        element.appendChild(docLink);\n",
              "      }\n",
              "    </script>\n",
              "  </div>\n",
              "\n",
              "\n",
              "    <div id=\"df-c35b3b5d-222d-4cef-95a5-307c04873361\">\n",
              "      <button class=\"colab-df-quickchart\" onclick=\"quickchart('df-c35b3b5d-222d-4cef-95a5-307c04873361')\"\n",
              "                title=\"Suggest charts\"\n",
              "                style=\"display:none;\">\n",
              "\n",
              "<svg xmlns=\"http://www.w3.org/2000/svg\" height=\"24px\"viewBox=\"0 0 24 24\"\n",
              "     width=\"24px\">\n",
              "    <g>\n",
              "        <path d=\"M19 3H5c-1.1 0-2 .9-2 2v14c0 1.1.9 2 2 2h14c1.1 0 2-.9 2-2V5c0-1.1-.9-2-2-2zM9 17H7v-7h2v7zm4 0h-2V7h2v10zm4 0h-2v-4h2v4z\"/>\n",
              "    </g>\n",
              "</svg>\n",
              "      </button>\n",
              "\n",
              "<style>\n",
              "  .colab-df-quickchart {\n",
              "      --bg-color: #E8F0FE;\n",
              "      --fill-color: #1967D2;\n",
              "      --hover-bg-color: #E2EBFA;\n",
              "      --hover-fill-color: #174EA6;\n",
              "      --disabled-fill-color: #AAA;\n",
              "      --disabled-bg-color: #DDD;\n",
              "  }\n",
              "\n",
              "  [theme=dark] .colab-df-quickchart {\n",
              "      --bg-color: #3B4455;\n",
              "      --fill-color: #D2E3FC;\n",
              "      --hover-bg-color: #434B5C;\n",
              "      --hover-fill-color: #FFFFFF;\n",
              "      --disabled-bg-color: #3B4455;\n",
              "      --disabled-fill-color: #666;\n",
              "  }\n",
              "\n",
              "  .colab-df-quickchart {\n",
              "    background-color: var(--bg-color);\n",
              "    border: none;\n",
              "    border-radius: 50%;\n",
              "    cursor: pointer;\n",
              "    display: none;\n",
              "    fill: var(--fill-color);\n",
              "    height: 32px;\n",
              "    padding: 0;\n",
              "    width: 32px;\n",
              "  }\n",
              "\n",
              "  .colab-df-quickchart:hover {\n",
              "    background-color: var(--hover-bg-color);\n",
              "    box-shadow: 0 1px 2px rgba(60, 64, 67, 0.3), 0 1px 3px 1px rgba(60, 64, 67, 0.15);\n",
              "    fill: var(--button-hover-fill-color);\n",
              "  }\n",
              "\n",
              "  .colab-df-quickchart-complete:disabled,\n",
              "  .colab-df-quickchart-complete:disabled:hover {\n",
              "    background-color: var(--disabled-bg-color);\n",
              "    fill: var(--disabled-fill-color);\n",
              "    box-shadow: none;\n",
              "  }\n",
              "\n",
              "  .colab-df-spinner {\n",
              "    border: 2px solid var(--fill-color);\n",
              "    border-color: transparent;\n",
              "    border-bottom-color: var(--fill-color);\n",
              "    animation:\n",
              "      spin 1s steps(1) infinite;\n",
              "  }\n",
              "\n",
              "  @keyframes spin {\n",
              "    0% {\n",
              "      border-color: transparent;\n",
              "      border-bottom-color: var(--fill-color);\n",
              "      border-left-color: var(--fill-color);\n",
              "    }\n",
              "    20% {\n",
              "      border-color: transparent;\n",
              "      border-left-color: var(--fill-color);\n",
              "      border-top-color: var(--fill-color);\n",
              "    }\n",
              "    30% {\n",
              "      border-color: transparent;\n",
              "      border-left-color: var(--fill-color);\n",
              "      border-top-color: var(--fill-color);\n",
              "      border-right-color: var(--fill-color);\n",
              "    }\n",
              "    40% {\n",
              "      border-color: transparent;\n",
              "      border-right-color: var(--fill-color);\n",
              "      border-top-color: var(--fill-color);\n",
              "    }\n",
              "    60% {\n",
              "      border-color: transparent;\n",
              "      border-right-color: var(--fill-color);\n",
              "    }\n",
              "    80% {\n",
              "      border-color: transparent;\n",
              "      border-right-color: var(--fill-color);\n",
              "      border-bottom-color: var(--fill-color);\n",
              "    }\n",
              "    90% {\n",
              "      border-color: transparent;\n",
              "      border-bottom-color: var(--fill-color);\n",
              "    }\n",
              "  }\n",
              "</style>\n",
              "\n",
              "      <script>\n",
              "        async function quickchart(key) {\n",
              "          const quickchartButtonEl =\n",
              "            document.querySelector('#' + key + ' button');\n",
              "          quickchartButtonEl.disabled = true;  // To prevent multiple clicks.\n",
              "          quickchartButtonEl.classList.add('colab-df-spinner');\n",
              "          try {\n",
              "            const charts = await google.colab.kernel.invokeFunction(\n",
              "                'suggestCharts', [key], {});\n",
              "          } catch (error) {\n",
              "            console.error('Error during call to suggestCharts:', error);\n",
              "          }\n",
              "          quickchartButtonEl.classList.remove('colab-df-spinner');\n",
              "          quickchartButtonEl.classList.add('colab-df-quickchart-complete');\n",
              "        }\n",
              "        (() => {\n",
              "          let quickchartButtonEl =\n",
              "            document.querySelector('#df-c35b3b5d-222d-4cef-95a5-307c04873361 button');\n",
              "          quickchartButtonEl.style.display =\n",
              "            google.colab.kernel.accessAllowed ? 'block' : 'none';\n",
              "        })();\n",
              "      </script>\n",
              "    </div>\n",
              "\n",
              "    </div>\n",
              "  </div>\n"
            ],
            "application/vnd.google.colaboratory.intrinsic+json": {
              "type": "dataframe",
              "variable_name": "tiendaB",
              "summary": "{\n  \"name\": \"tiendaB\",\n  \"rows\": 2359,\n  \"fields\": [\n    {\n      \"column\": \"Producto\",\n      \"properties\": {\n        \"dtype\": \"category\",\n        \"num_unique_values\": 51,\n        \"samples\": [\n          \"Carrito de control remoto\",\n          \"Bal\\u00f3n de voleibol\",\n          \"Smartwatch\"\n        ],\n        \"semantic_type\": \"\",\n        \"description\": \"\"\n      }\n    },\n    {\n      \"column\": \"Categor\\u00eda del Producto\",\n      \"properties\": {\n        \"dtype\": \"category\",\n        \"num_unique_values\": 8,\n        \"samples\": [\n          \"Instrumentos musicales\",\n          \"Juguetes\",\n          \"Muebles\"\n        ],\n        \"semantic_type\": \"\",\n        \"description\": \"\"\n      }\n    },\n    {\n      \"column\": \"Precio\",\n      \"properties\": {\n        \"dtype\": \"number\",\n        \"std\": 595559.5496238894,\n        \"min\": 7600.0,\n        \"max\": 2953400.0,\n        \"num_unique_values\": 1908,\n        \"samples\": [\n          58500.0,\n          39100.0,\n          2005300.0\n        ],\n        \"semantic_type\": \"\",\n        \"description\": \"\"\n      }\n    },\n    {\n      \"column\": \"Costo de env\\u00edo\",\n      \"properties\": {\n        \"dtype\": \"number\",\n        \"std\": 31741.37516624008,\n        \"min\": 0.0,\n        \"max\": 162500.0,\n        \"num_unique_values\": 736,\n        \"samples\": [\n          79700.0,\n          32300.0,\n          12600.0\n        ],\n        \"semantic_type\": \"\",\n        \"description\": \"\"\n      }\n    },\n    {\n      \"column\": \"Fecha de Compra\",\n      \"properties\": {\n        \"dtype\": \"category\",\n        \"num_unique_values\": 1025,\n        \"samples\": [\n          \"17/02/2021\",\n          \"16/03/2023\",\n          \"30/07/2020\"\n        ],\n        \"semantic_type\": \"\",\n        \"description\": \"\"\n      }\n    },\n    {\n      \"column\": \"Vendedor\",\n      \"properties\": {\n        \"dtype\": \"category\",\n        \"num_unique_values\": 14,\n        \"samples\": [\n          \"Felipe Santos\",\n          \"\\u00c1ngel Rodriguez\",\n          \"Izabela de Le\\u00f3n\"\n        ],\n        \"semantic_type\": \"\",\n        \"description\": \"\"\n      }\n    },\n    {\n      \"column\": \"Lugar de Compra\",\n      \"properties\": {\n        \"dtype\": \"category\",\n        \"num_unique_values\": 19,\n        \"samples\": [\n          \"Medell\\u00edn\",\n          \"Barranquilla\",\n          \"Manizales\"\n        ],\n        \"semantic_type\": \"\",\n        \"description\": \"\"\n      }\n    },\n    {\n      \"column\": \"Calificaci\\u00f3n\",\n      \"properties\": {\n        \"dtype\": \"number\",\n        \"std\": 1,\n        \"min\": 1,\n        \"max\": 5,\n        \"num_unique_values\": 5,\n        \"samples\": [\n          3,\n          2,\n          5\n        ],\n        \"semantic_type\": \"\",\n        \"description\": \"\"\n      }\n    },\n    {\n      \"column\": \"M\\u00e9todo de pago\",\n      \"properties\": {\n        \"dtype\": \"category\",\n        \"num_unique_values\": 4,\n        \"samples\": [\n          \"Tarjeta de cr\\u00e9dito\",\n          \"Tarjeta de d\\u00e9bito\",\n          \"Nequi\"\n        ],\n        \"semantic_type\": \"\",\n        \"description\": \"\"\n      }\n    },\n    {\n      \"column\": \"Cantidad de cuotas\",\n      \"properties\": {\n        \"dtype\": \"number\",\n        \"std\": 2,\n        \"min\": 1,\n        \"max\": 24,\n        \"num_unique_values\": 17,\n        \"samples\": [\n          1,\n          4,\n          2\n        ],\n        \"semantic_type\": \"\",\n        \"description\": \"\"\n      }\n    },\n    {\n      \"column\": \"lat\",\n      \"properties\": {\n        \"dtype\": \"number\",\n        \"std\": 2.3511176512146568,\n        \"min\": -4.21528,\n        \"max\": 11.54444,\n        \"num_unique_values\": 19,\n        \"samples\": [\n          6.25184,\n          10.96854,\n          5.06889\n        ],\n        \"semantic_type\": \"\",\n        \"description\": \"\"\n      }\n    },\n    {\n      \"column\": \"lon\",\n      \"properties\": {\n        \"dtype\": \"number\",\n        \"std\": 1.185996710833015,\n        \"min\": -77.28111,\n        \"max\": -67.9239,\n        \"num_unique_values\": 19,\n        \"samples\": [\n          -75.56359,\n          -74.78132,\n          -75.51738\n        ],\n        \"semantic_type\": \"\",\n        \"description\": \"\"\n      }\n    }\n  ]\n}"
            }
          },
          "metadata": {},
          "execution_count": 26
        }
      ]
    },
    {
      "cell_type": "code",
      "source": [
        "tiendaC = pd.read_csv(\"/content/tienda_3.csv\")\n"
      ],
      "metadata": {
        "id": "3-sOX8rdkcEn"
      },
      "execution_count": 27,
      "outputs": []
    },
    {
      "cell_type": "code",
      "source": [
        "tiendaC.head()"
      ],
      "metadata": {
        "id": "iVbXRAHdnsXc",
        "colab": {
          "base_uri": "https://localhost:8080/",
          "height": 310
        },
        "outputId": "520f2f7a-63e5-4678-b121-5da14df4f700"
      },
      "execution_count": 28,
      "outputs": [
        {
          "output_type": "execute_result",
          "data": {
            "text/plain": [
              "            Producto  Categoría del Producto     Precio  Costo de envío  \\\n",
              "0   Secadora de ropa       Electrodomésticos  1285100.0         66600.0   \n",
              "1      Mesa de noche                 Muebles   290100.0         13600.0   \n",
              "2  Guitarra acústica  Instrumentos musicales   303500.0         17400.0   \n",
              "3  Balón de voleibol    Deportes y diversión    58800.0          3300.0   \n",
              "4            Armario                 Muebles   521100.0         25900.0   \n",
              "\n",
              "  Fecha de Compra        Vendedor Lugar de Compra  Calificación  \\\n",
              "0      17/12/2021   Camila Rivera     Santa Marta             4   \n",
              "1      10/02/2021   Maria Alfonso            Cali             3   \n",
              "2      22/01/2023   Lucas Olivera          Bogotá             5   \n",
              "3      22/03/2022     Pedro Gomez    Barranquilla             4   \n",
              "4      12/01/2022  Blanca Ramirez          Bogotá             1   \n",
              "\n",
              "       Método de pago  Cantidad de cuotas       lat       lon  \n",
              "0  Tarjeta de crédito                   4  11.24079 -74.19904  \n",
              "1  Tarjeta de crédito                   1   3.43722 -76.52250  \n",
              "2  Tarjeta de crédito                   3   4.60971 -74.08175  \n",
              "3  Tarjeta de crédito                   6  10.96854 -74.78132  \n",
              "4  Tarjeta de crédito                   1   4.60971 -74.08175  "
            ],
            "text/html": [
              "\n",
              "  <div id=\"df-7305cfd5-1e69-40eb-90c1-3a3e85d85719\" class=\"colab-df-container\">\n",
              "    <div>\n",
              "<style scoped>\n",
              "    .dataframe tbody tr th:only-of-type {\n",
              "        vertical-align: middle;\n",
              "    }\n",
              "\n",
              "    .dataframe tbody tr th {\n",
              "        vertical-align: top;\n",
              "    }\n",
              "\n",
              "    .dataframe thead th {\n",
              "        text-align: right;\n",
              "    }\n",
              "</style>\n",
              "<table border=\"1\" class=\"dataframe\">\n",
              "  <thead>\n",
              "    <tr style=\"text-align: right;\">\n",
              "      <th></th>\n",
              "      <th>Producto</th>\n",
              "      <th>Categoría del Producto</th>\n",
              "      <th>Precio</th>\n",
              "      <th>Costo de envío</th>\n",
              "      <th>Fecha de Compra</th>\n",
              "      <th>Vendedor</th>\n",
              "      <th>Lugar de Compra</th>\n",
              "      <th>Calificación</th>\n",
              "      <th>Método de pago</th>\n",
              "      <th>Cantidad de cuotas</th>\n",
              "      <th>lat</th>\n",
              "      <th>lon</th>\n",
              "    </tr>\n",
              "  </thead>\n",
              "  <tbody>\n",
              "    <tr>\n",
              "      <th>0</th>\n",
              "      <td>Secadora de ropa</td>\n",
              "      <td>Electrodomésticos</td>\n",
              "      <td>1285100.0</td>\n",
              "      <td>66600.0</td>\n",
              "      <td>17/12/2021</td>\n",
              "      <td>Camila Rivera</td>\n",
              "      <td>Santa Marta</td>\n",
              "      <td>4</td>\n",
              "      <td>Tarjeta de crédito</td>\n",
              "      <td>4</td>\n",
              "      <td>11.24079</td>\n",
              "      <td>-74.19904</td>\n",
              "    </tr>\n",
              "    <tr>\n",
              "      <th>1</th>\n",
              "      <td>Mesa de noche</td>\n",
              "      <td>Muebles</td>\n",
              "      <td>290100.0</td>\n",
              "      <td>13600.0</td>\n",
              "      <td>10/02/2021</td>\n",
              "      <td>Maria Alfonso</td>\n",
              "      <td>Cali</td>\n",
              "      <td>3</td>\n",
              "      <td>Tarjeta de crédito</td>\n",
              "      <td>1</td>\n",
              "      <td>3.43722</td>\n",
              "      <td>-76.52250</td>\n",
              "    </tr>\n",
              "    <tr>\n",
              "      <th>2</th>\n",
              "      <td>Guitarra acústica</td>\n",
              "      <td>Instrumentos musicales</td>\n",
              "      <td>303500.0</td>\n",
              "      <td>17400.0</td>\n",
              "      <td>22/01/2023</td>\n",
              "      <td>Lucas Olivera</td>\n",
              "      <td>Bogotá</td>\n",
              "      <td>5</td>\n",
              "      <td>Tarjeta de crédito</td>\n",
              "      <td>3</td>\n",
              "      <td>4.60971</td>\n",
              "      <td>-74.08175</td>\n",
              "    </tr>\n",
              "    <tr>\n",
              "      <th>3</th>\n",
              "      <td>Balón de voleibol</td>\n",
              "      <td>Deportes y diversión</td>\n",
              "      <td>58800.0</td>\n",
              "      <td>3300.0</td>\n",
              "      <td>22/03/2022</td>\n",
              "      <td>Pedro Gomez</td>\n",
              "      <td>Barranquilla</td>\n",
              "      <td>4</td>\n",
              "      <td>Tarjeta de crédito</td>\n",
              "      <td>6</td>\n",
              "      <td>10.96854</td>\n",
              "      <td>-74.78132</td>\n",
              "    </tr>\n",
              "    <tr>\n",
              "      <th>4</th>\n",
              "      <td>Armario</td>\n",
              "      <td>Muebles</td>\n",
              "      <td>521100.0</td>\n",
              "      <td>25900.0</td>\n",
              "      <td>12/01/2022</td>\n",
              "      <td>Blanca Ramirez</td>\n",
              "      <td>Bogotá</td>\n",
              "      <td>1</td>\n",
              "      <td>Tarjeta de crédito</td>\n",
              "      <td>1</td>\n",
              "      <td>4.60971</td>\n",
              "      <td>-74.08175</td>\n",
              "    </tr>\n",
              "  </tbody>\n",
              "</table>\n",
              "</div>\n",
              "    <div class=\"colab-df-buttons\">\n",
              "\n",
              "  <div class=\"colab-df-container\">\n",
              "    <button class=\"colab-df-convert\" onclick=\"convertToInteractive('df-7305cfd5-1e69-40eb-90c1-3a3e85d85719')\"\n",
              "            title=\"Convert this dataframe to an interactive table.\"\n",
              "            style=\"display:none;\">\n",
              "\n",
              "  <svg xmlns=\"http://www.w3.org/2000/svg\" height=\"24px\" viewBox=\"0 -960 960 960\">\n",
              "    <path d=\"M120-120v-720h720v720H120Zm60-500h600v-160H180v160Zm220 220h160v-160H400v160Zm0 220h160v-160H400v160ZM180-400h160v-160H180v160Zm440 0h160v-160H620v160ZM180-180h160v-160H180v160Zm440 0h160v-160H620v160Z\"/>\n",
              "  </svg>\n",
              "    </button>\n",
              "\n",
              "  <style>\n",
              "    .colab-df-container {\n",
              "      display:flex;\n",
              "      gap: 12px;\n",
              "    }\n",
              "\n",
              "    .colab-df-convert {\n",
              "      background-color: #E8F0FE;\n",
              "      border: none;\n",
              "      border-radius: 50%;\n",
              "      cursor: pointer;\n",
              "      display: none;\n",
              "      fill: #1967D2;\n",
              "      height: 32px;\n",
              "      padding: 0 0 0 0;\n",
              "      width: 32px;\n",
              "    }\n",
              "\n",
              "    .colab-df-convert:hover {\n",
              "      background-color: #E2EBFA;\n",
              "      box-shadow: 0px 1px 2px rgba(60, 64, 67, 0.3), 0px 1px 3px 1px rgba(60, 64, 67, 0.15);\n",
              "      fill: #174EA6;\n",
              "    }\n",
              "\n",
              "    .colab-df-buttons div {\n",
              "      margin-bottom: 4px;\n",
              "    }\n",
              "\n",
              "    [theme=dark] .colab-df-convert {\n",
              "      background-color: #3B4455;\n",
              "      fill: #D2E3FC;\n",
              "    }\n",
              "\n",
              "    [theme=dark] .colab-df-convert:hover {\n",
              "      background-color: #434B5C;\n",
              "      box-shadow: 0px 1px 3px 1px rgba(0, 0, 0, 0.15);\n",
              "      filter: drop-shadow(0px 1px 2px rgba(0, 0, 0, 0.3));\n",
              "      fill: #FFFFFF;\n",
              "    }\n",
              "  </style>\n",
              "\n",
              "    <script>\n",
              "      const buttonEl =\n",
              "        document.querySelector('#df-7305cfd5-1e69-40eb-90c1-3a3e85d85719 button.colab-df-convert');\n",
              "      buttonEl.style.display =\n",
              "        google.colab.kernel.accessAllowed ? 'block' : 'none';\n",
              "\n",
              "      async function convertToInteractive(key) {\n",
              "        const element = document.querySelector('#df-7305cfd5-1e69-40eb-90c1-3a3e85d85719');\n",
              "        const dataTable =\n",
              "          await google.colab.kernel.invokeFunction('convertToInteractive',\n",
              "                                                    [key], {});\n",
              "        if (!dataTable) return;\n",
              "\n",
              "        const docLinkHtml = 'Like what you see? Visit the ' +\n",
              "          '<a target=\"_blank\" href=https://colab.research.google.com/notebooks/data_table.ipynb>data table notebook</a>'\n",
              "          + ' to learn more about interactive tables.';\n",
              "        element.innerHTML = '';\n",
              "        dataTable['output_type'] = 'display_data';\n",
              "        await google.colab.output.renderOutput(dataTable, element);\n",
              "        const docLink = document.createElement('div');\n",
              "        docLink.innerHTML = docLinkHtml;\n",
              "        element.appendChild(docLink);\n",
              "      }\n",
              "    </script>\n",
              "  </div>\n",
              "\n",
              "\n",
              "    <div id=\"df-12fd9c29-d607-418e-b839-ccef77f9c2e0\">\n",
              "      <button class=\"colab-df-quickchart\" onclick=\"quickchart('df-12fd9c29-d607-418e-b839-ccef77f9c2e0')\"\n",
              "                title=\"Suggest charts\"\n",
              "                style=\"display:none;\">\n",
              "\n",
              "<svg xmlns=\"http://www.w3.org/2000/svg\" height=\"24px\"viewBox=\"0 0 24 24\"\n",
              "     width=\"24px\">\n",
              "    <g>\n",
              "        <path d=\"M19 3H5c-1.1 0-2 .9-2 2v14c0 1.1.9 2 2 2h14c1.1 0 2-.9 2-2V5c0-1.1-.9-2-2-2zM9 17H7v-7h2v7zm4 0h-2V7h2v10zm4 0h-2v-4h2v4z\"/>\n",
              "    </g>\n",
              "</svg>\n",
              "      </button>\n",
              "\n",
              "<style>\n",
              "  .colab-df-quickchart {\n",
              "      --bg-color: #E8F0FE;\n",
              "      --fill-color: #1967D2;\n",
              "      --hover-bg-color: #E2EBFA;\n",
              "      --hover-fill-color: #174EA6;\n",
              "      --disabled-fill-color: #AAA;\n",
              "      --disabled-bg-color: #DDD;\n",
              "  }\n",
              "\n",
              "  [theme=dark] .colab-df-quickchart {\n",
              "      --bg-color: #3B4455;\n",
              "      --fill-color: #D2E3FC;\n",
              "      --hover-bg-color: #434B5C;\n",
              "      --hover-fill-color: #FFFFFF;\n",
              "      --disabled-bg-color: #3B4455;\n",
              "      --disabled-fill-color: #666;\n",
              "  }\n",
              "\n",
              "  .colab-df-quickchart {\n",
              "    background-color: var(--bg-color);\n",
              "    border: none;\n",
              "    border-radius: 50%;\n",
              "    cursor: pointer;\n",
              "    display: none;\n",
              "    fill: var(--fill-color);\n",
              "    height: 32px;\n",
              "    padding: 0;\n",
              "    width: 32px;\n",
              "  }\n",
              "\n",
              "  .colab-df-quickchart:hover {\n",
              "    background-color: var(--hover-bg-color);\n",
              "    box-shadow: 0 1px 2px rgba(60, 64, 67, 0.3), 0 1px 3px 1px rgba(60, 64, 67, 0.15);\n",
              "    fill: var(--button-hover-fill-color);\n",
              "  }\n",
              "\n",
              "  .colab-df-quickchart-complete:disabled,\n",
              "  .colab-df-quickchart-complete:disabled:hover {\n",
              "    background-color: var(--disabled-bg-color);\n",
              "    fill: var(--disabled-fill-color);\n",
              "    box-shadow: none;\n",
              "  }\n",
              "\n",
              "  .colab-df-spinner {\n",
              "    border: 2px solid var(--fill-color);\n",
              "    border-color: transparent;\n",
              "    border-bottom-color: var(--fill-color);\n",
              "    animation:\n",
              "      spin 1s steps(1) infinite;\n",
              "  }\n",
              "\n",
              "  @keyframes spin {\n",
              "    0% {\n",
              "      border-color: transparent;\n",
              "      border-bottom-color: var(--fill-color);\n",
              "      border-left-color: var(--fill-color);\n",
              "    }\n",
              "    20% {\n",
              "      border-color: transparent;\n",
              "      border-left-color: var(--fill-color);\n",
              "      border-top-color: var(--fill-color);\n",
              "    }\n",
              "    30% {\n",
              "      border-color: transparent;\n",
              "      border-left-color: var(--fill-color);\n",
              "      border-top-color: var(--fill-color);\n",
              "      border-right-color: var(--fill-color);\n",
              "    }\n",
              "    40% {\n",
              "      border-color: transparent;\n",
              "      border-right-color: var(--fill-color);\n",
              "      border-top-color: var(--fill-color);\n",
              "    }\n",
              "    60% {\n",
              "      border-color: transparent;\n",
              "      border-right-color: var(--fill-color);\n",
              "    }\n",
              "    80% {\n",
              "      border-color: transparent;\n",
              "      border-right-color: var(--fill-color);\n",
              "      border-bottom-color: var(--fill-color);\n",
              "    }\n",
              "    90% {\n",
              "      border-color: transparent;\n",
              "      border-bottom-color: var(--fill-color);\n",
              "    }\n",
              "  }\n",
              "</style>\n",
              "\n",
              "      <script>\n",
              "        async function quickchart(key) {\n",
              "          const quickchartButtonEl =\n",
              "            document.querySelector('#' + key + ' button');\n",
              "          quickchartButtonEl.disabled = true;  // To prevent multiple clicks.\n",
              "          quickchartButtonEl.classList.add('colab-df-spinner');\n",
              "          try {\n",
              "            const charts = await google.colab.kernel.invokeFunction(\n",
              "                'suggestCharts', [key], {});\n",
              "          } catch (error) {\n",
              "            console.error('Error during call to suggestCharts:', error);\n",
              "          }\n",
              "          quickchartButtonEl.classList.remove('colab-df-spinner');\n",
              "          quickchartButtonEl.classList.add('colab-df-quickchart-complete');\n",
              "        }\n",
              "        (() => {\n",
              "          let quickchartButtonEl =\n",
              "            document.querySelector('#df-12fd9c29-d607-418e-b839-ccef77f9c2e0 button');\n",
              "          quickchartButtonEl.style.display =\n",
              "            google.colab.kernel.accessAllowed ? 'block' : 'none';\n",
              "        })();\n",
              "      </script>\n",
              "    </div>\n",
              "\n",
              "    </div>\n",
              "  </div>\n"
            ],
            "application/vnd.google.colaboratory.intrinsic+json": {
              "type": "dataframe",
              "variable_name": "tiendaC",
              "summary": "{\n  \"name\": \"tiendaC\",\n  \"rows\": 2359,\n  \"fields\": [\n    {\n      \"column\": \"Producto\",\n      \"properties\": {\n        \"dtype\": \"category\",\n        \"num_unique_values\": 51,\n        \"samples\": [\n          \"Sof\\u00e1 reclinable\",\n          \"Juego de mesa\",\n          \"Vaso t\\u00e9rmico\"\n        ],\n        \"semantic_type\": \"\",\n        \"description\": \"\"\n      }\n    },\n    {\n      \"column\": \"Categor\\u00eda del Producto\",\n      \"properties\": {\n        \"dtype\": \"category\",\n        \"num_unique_values\": 8,\n        \"samples\": [\n          \"Muebles\",\n          \"Juguetes\",\n          \"Electrodom\\u00e9sticos\"\n        ],\n        \"semantic_type\": \"\",\n        \"description\": \"\"\n      }\n    },\n    {\n      \"column\": \"Precio\",\n      \"properties\": {\n        \"dtype\": \"number\",\n        \"std\": 580643.391372138,\n        \"min\": 7600.0,\n        \"max\": 2968200.0,\n        \"num_unique_values\": 1946,\n        \"samples\": [\n          189400.0,\n          1454800.0,\n          1116100.0\n        ],\n        \"semantic_type\": \"\",\n        \"description\": \"\"\n      }\n    },\n    {\n      \"column\": \"Costo de env\\u00edo\",\n      \"properties\": {\n        \"dtype\": \"number\",\n        \"std\": 30945.889626378834,\n        \"min\": 0.0,\n        \"max\": 158400.0,\n        \"num_unique_values\": 737,\n        \"samples\": [\n          119800.0,\n          1400.0,\n          76500.0\n        ],\n        \"semantic_type\": \"\",\n        \"description\": \"\"\n      }\n    },\n    {\n      \"column\": \"Fecha de Compra\",\n      \"properties\": {\n        \"dtype\": \"object\",\n        \"num_unique_values\": 1024,\n        \"samples\": [\n          \"04/06/2020\",\n          \"28/03/2023\",\n          \"29/05/2022\"\n        ],\n        \"semantic_type\": \"\",\n        \"description\": \"\"\n      }\n    },\n    {\n      \"column\": \"Vendedor\",\n      \"properties\": {\n        \"dtype\": \"category\",\n        \"num_unique_values\": 14,\n        \"samples\": [\n          \"Beatriz Morales\",\n          \"Rafael Acosta\",\n          \"Camila Rivera\"\n        ],\n        \"semantic_type\": \"\",\n        \"description\": \"\"\n      }\n    },\n    {\n      \"column\": \"Lugar de Compra\",\n      \"properties\": {\n        \"dtype\": \"category\",\n        \"num_unique_values\": 19,\n        \"samples\": [\n          \"Santa Marta\",\n          \"Neiva\",\n          \"Pasto\"\n        ],\n        \"semantic_type\": \"\",\n        \"description\": \"\"\n      }\n    },\n    {\n      \"column\": \"Calificaci\\u00f3n\",\n      \"properties\": {\n        \"dtype\": \"number\",\n        \"std\": 1,\n        \"min\": 1,\n        \"max\": 5,\n        \"num_unique_values\": 5,\n        \"samples\": [\n          3,\n          2,\n          5\n        ],\n        \"semantic_type\": \"\",\n        \"description\": \"\"\n      }\n    },\n    {\n      \"column\": \"M\\u00e9todo de pago\",\n      \"properties\": {\n        \"dtype\": \"category\",\n        \"num_unique_values\": 4,\n        \"samples\": [\n          \"Nequi\",\n          \"Tarjeta de d\\u00e9bito\",\n          \"Tarjeta de cr\\u00e9dito\"\n        ],\n        \"semantic_type\": \"\",\n        \"description\": \"\"\n      }\n    },\n    {\n      \"column\": \"Cantidad de cuotas\",\n      \"properties\": {\n        \"dtype\": \"number\",\n        \"std\": 2,\n        \"min\": 1,\n        \"max\": 24,\n        \"num_unique_values\": 17,\n        \"samples\": [\n          4,\n          1,\n          2\n        ],\n        \"semantic_type\": \"\",\n        \"description\": \"\"\n      }\n    },\n    {\n      \"column\": \"lat\",\n      \"properties\": {\n        \"dtype\": \"number\",\n        \"std\": 2.405271698638615,\n        \"min\": -4.21528,\n        \"max\": 11.54444,\n        \"num_unique_values\": 19,\n        \"samples\": [\n          11.24079,\n          2.9273,\n          1.21361\n        ],\n        \"semantic_type\": \"\",\n        \"description\": \"\"\n      }\n    },\n    {\n      \"column\": \"lon\",\n      \"properties\": {\n        \"dtype\": \"number\",\n        \"std\": 1.2245717632157704,\n        \"min\": -77.28111,\n        \"max\": -67.9239,\n        \"num_unique_values\": 19,\n        \"samples\": [\n          -74.19904,\n          -75.28189,\n          -77.28111\n        ],\n        \"semantic_type\": \"\",\n        \"description\": \"\"\n      }\n    }\n  ]\n}"
            }
          },
          "metadata": {},
          "execution_count": 28
        }
      ]
    },
    {
      "cell_type": "code",
      "source": [
        "tiendaD = pd.read_csv(\"/content/tienda_4.csv\")\n"
      ],
      "metadata": {
        "id": "8nCoYxdokcNE"
      },
      "execution_count": 29,
      "outputs": []
    },
    {
      "cell_type": "code",
      "source": [
        "tiendaA.Calificación.max()"
      ],
      "metadata": {
        "id": "TX4uKKpnDQrN",
        "colab": {
          "base_uri": "https://localhost:8080/"
        },
        "outputId": "ed1c4b11-e522-418f-96a3-11f530d623c2"
      },
      "execution_count": 31,
      "outputs": [
        {
          "output_type": "execute_result",
          "data": {
            "text/plain": [
              "5"
            ]
          },
          "metadata": {},
          "execution_count": 31
        }
      ]
    },
    {
      "cell_type": "markdown",
      "source": [
        "#1. Análisis de facturación\n",
        "\n"
      ],
      "metadata": {
        "id": "X62IW3KFUIYm"
      }
    },
    {
      "cell_type": "code",
      "source": [
        "ingreso_total_tiendaA = sum(tiendaA[\"Precio\"])\n",
        "ingreso_total_tiendaA\n"
      ],
      "metadata": {
        "id": "xykobSftV64I",
        "colab": {
          "base_uri": "https://localhost:8080/"
        },
        "outputId": "b681e05d-99f7-4373-e185-25c5a615c2ad"
      },
      "execution_count": 56,
      "outputs": [
        {
          "output_type": "execute_result",
          "data": {
            "text/plain": [
              "1150880400.0"
            ]
          },
          "metadata": {},
          "execution_count": 56
        }
      ]
    },
    {
      "cell_type": "code",
      "source": [
        "ingreso_total_tiendaB = sum(tiendaB[\"Precio\"])\n",
        "ingreso_total_tiendaB"
      ],
      "metadata": {
        "id": "KDyr8E71V3m-",
        "colab": {
          "base_uri": "https://localhost:8080/"
        },
        "outputId": "67b23e10-9383-4fa9-a3e0-34aa29358078"
      },
      "execution_count": 57,
      "outputs": [
        {
          "output_type": "execute_result",
          "data": {
            "text/plain": [
              "1116343500.0"
            ]
          },
          "metadata": {},
          "execution_count": 57
        }
      ]
    },
    {
      "cell_type": "code",
      "source": [
        "ingreso_total_tiendaC = sum(tiendaC[\"Precio\"])\n",
        "ingreso_total_tiendaC"
      ],
      "metadata": {
        "colab": {
          "base_uri": "https://localhost:8080/"
        },
        "id": "nMcA08CP6azQ",
        "outputId": "da989d5c-3c85-47c0-8cbe-727c9cfca77c"
      },
      "execution_count": 58,
      "outputs": [
        {
          "output_type": "execute_result",
          "data": {
            "text/plain": [
              "1098019600.0"
            ]
          },
          "metadata": {},
          "execution_count": 58
        }
      ]
    },
    {
      "cell_type": "code",
      "source": [
        "ingreso_total_tiendaD= sum(tiendaD[\"Precio\"])\n",
        "ingreso_total_tiendaD\n",
        "type(ingreso_total_tiendaD)"
      ],
      "metadata": {
        "colab": {
          "base_uri": "https://localhost:8080/"
        },
        "id": "XDjG3ljy6a48",
        "outputId": "0ddd5531-b2d2-432a-f724-3a85e5b16767"
      },
      "execution_count": 67,
      "outputs": [
        {
          "output_type": "execute_result",
          "data": {
            "text/plain": [
              "float"
            ]
          },
          "metadata": {},
          "execution_count": 67
        }
      ]
    },
    {
      "cell_type": "code",
      "source": [
        "ingreso_total_cuatro_tiendas = sum(tiendaA[\"Precio\"]) + sum(tiendaB[\"Precio\"]) + sum(tiendaC[\"Precio\"]) + sum(tiendaD[\"Precio\"])\n",
        "ingreso_total_cuatro_tiendas"
      ],
      "metadata": {
        "colab": {
          "base_uri": "https://localhost:8080/"
        },
        "id": "AxXLkZ2utMq7",
        "outputId": "79bc8a8f-b7c0-4cfb-e2ba-46c5599e2acc"
      },
      "execution_count": 60,
      "outputs": [
        {
          "output_type": "execute_result",
          "data": {
            "text/plain": [
              "4403619200.0"
            ]
          },
          "metadata": {},
          "execution_count": 60
        }
      ]
    },
    {
      "cell_type": "code",
      "source": [
        "data = {\n",
        "    'Tiendas': ['A', 'B', 'C', 'D'],\n",
        "    'Ventas': [1150880400, 1116343500, 1098019600, 1038375700]\n",
        "}\n",
        "\n",
        "df = pd.DataFrame(data)\n",
        "print(df)"
      ],
      "metadata": {
        "id": "2x6s33hVDv7H",
        "outputId": "ca461a97-88f5-4848-fd39-6b12175e324b",
        "colab": {
          "base_uri": "https://localhost:8080/"
        }
      },
      "execution_count": 68,
      "outputs": [
        {
          "output_type": "stream",
          "name": "stdout",
          "text": [
            "  Tiendas      Ventas\n",
            "0       A  1150880400\n",
            "1       B  1116343500\n",
            "2       C  1098019600\n",
            "3       D  1038375700\n"
          ]
        }
      ]
    },
    {
      "cell_type": "code",
      "source": [
        "total_ventas = df['Ventas'].sum()\n",
        "df['Porcentaje'] = (df['Ventas'] / total_ventas) * 100\n",
        "df['Porcentaje'] = df['Porcentaje'].round(2)\n",
        "print(df)"
      ],
      "metadata": {
        "id": "otWET-4oDvjx",
        "outputId": "f34e7686-c8c5-4123-8cfc-a8d1e5f88b76",
        "colab": {
          "base_uri": "https://localhost:8080/"
        }
      },
      "execution_count": 70,
      "outputs": [
        {
          "output_type": "stream",
          "name": "stdout",
          "text": [
            "  Tiendas      Ventas  Porcentaje\n",
            "0       A  1150880400       26.13\n",
            "1       B  1116343500       25.35\n",
            "2       C  1098019600       24.93\n",
            "3       D  1038375700       23.58\n"
          ]
        }
      ]
    },
    {
      "cell_type": "markdown",
      "source": [
        "# 2. Ventas por categoría"
      ],
      "metadata": {
        "id": "2V_vcAPzWZmR"
      }
    },
    {
      "cell_type": "code",
      "source": [
        "def ventas_por_categoria(tienda, numero):\n",
        "    ventas = tienda.groupby('Categoría del Producto')['Precio'].sum()\n",
        "    print(f\"\\nVentas por categoría en Tienda {numero}:\")\n",
        "    print(ventas)\n",
        "\n",
        "ventas_por_categoria(tiendaA, 1)\n",
        "ventas_por_categoria(tiendaB, 2)\n",
        "ventas_por_categoria(tiendaC, 3)\n",
        "ventas_por_categoria(tiendaD, 4)\n"
      ],
      "metadata": {
        "id": "A34YupIuYhfF",
        "colab": {
          "base_uri": "https://localhost:8080/"
        },
        "outputId": "0e4a82d2-8d10-462b-8bff-a89a1e8b3f9f"
      },
      "execution_count": 90,
      "outputs": [
        {
          "output_type": "stream",
          "name": "stdout",
          "text": [
            "\n",
            "Ventas por categoría en Tienda 1:\n",
            "Categoría del Producto\n",
            "Artículos para el hogar     12698400.0\n",
            "Deportes y diversión        39290000.0\n",
            "Electrodomésticos          363685200.0\n",
            "Electrónicos               429493500.0\n",
            "Instrumentos musicales      91299000.0\n",
            "Juguetes                    17995700.0\n",
            "Libros                       8784900.0\n",
            "Muebles                    187633700.0\n",
            "Name: Precio, dtype: float64\n",
            "\n",
            "Ventas por categoría en Tienda 2:\n",
            "Categoría del Producto\n",
            "Artículos para el hogar     14746900.0\n",
            "Deportes y diversión        34744500.0\n",
            "Electrodomésticos          348567800.0\n",
            "Electrónicos               410831100.0\n",
            "Instrumentos musicales     104990300.0\n",
            "Juguetes                    15945400.0\n",
            "Libros                      10091200.0\n",
            "Muebles                    176426300.0\n",
            "Name: Precio, dtype: float64\n",
            "\n",
            "Ventas por categoría en Tienda 3:\n",
            "Categoría del Producto\n",
            "Artículos para el hogar     15060000.0\n",
            "Deportes y diversión        35593100.0\n",
            "Electrodomésticos          329237900.0\n",
            "Electrónicos               410775800.0\n",
            "Instrumentos musicales      77380900.0\n",
            "Juguetes                    19401100.0\n",
            "Libros                       9498700.0\n",
            "Muebles                    201072100.0\n",
            "Name: Precio, dtype: float64\n",
            "\n",
            "Ventas por categoría en Tienda 4:\n",
            "Categoría del Producto\n",
            "Artículos para el hogar     15074500.0\n",
            "Deportes y diversión        33350100.0\n",
            "Electrodomésticos          283260200.0\n",
            "Electrónicos               409476100.0\n",
            "Instrumentos musicales      75102400.0\n",
            "Juguetes                    20262200.0\n",
            "Libros                       9321300.0\n",
            "Muebles                    192528900.0\n",
            "Name: Precio, dtype: float64\n"
          ]
        }
      ]
    },
    {
      "cell_type": "markdown",
      "source": [
        "# 3. Calificación promedio de la tienda\n"
      ],
      "metadata": {
        "id": "Rq6tU_xSY3jk"
      }
    },
    {
      "cell_type": "code",
      "source": [
        "calificacion_tiendaA = (sum(tiendaA[\"Calificación\"])) / len(tiendaA[\"Calificación\"])\n",
        "calificacion_tiendaA = round(calificacion_tiendaA, 3)\n",
        "calificacion_tiendaA"
      ],
      "metadata": {
        "id": "bh3jjjJwY5MU",
        "colab": {
          "base_uri": "https://localhost:8080/"
        },
        "outputId": "08675bf4-894c-4f52-b487-e6bc016ebddb"
      },
      "execution_count": 41,
      "outputs": [
        {
          "output_type": "execute_result",
          "data": {
            "text/plain": [
              "3.977"
            ]
          },
          "metadata": {},
          "execution_count": 41
        }
      ]
    },
    {
      "cell_type": "code",
      "source": [
        "calificacion_tiendaB = (sum(tiendaB[\"Calificación\"])) / len(tiendaB[\"Calificación\"])\n",
        "calificacion_tiendaB = round(calificacion_tiendaB, 3)\n",
        "calificacion_tiendaB"
      ],
      "metadata": {
        "id": "I0KkjPoTY88F",
        "colab": {
          "base_uri": "https://localhost:8080/"
        },
        "outputId": "1fb321fe-56d4-41f3-e8f3-c060d89845ea"
      },
      "execution_count": 42,
      "outputs": [
        {
          "output_type": "execute_result",
          "data": {
            "text/plain": [
              "4.037"
            ]
          },
          "metadata": {},
          "execution_count": 42
        }
      ]
    },
    {
      "cell_type": "code",
      "source": [
        "calificacion_tiendaC = (sum(tiendaC[\"Calificación\"])) / len(tiendaC[\"Calificación\"])\n",
        "calificacion_tiendaC = round(calificacion_tiendaC, 3)\n",
        "calificacion_tiendaC"
      ],
      "metadata": {
        "id": "8nqRY6H7Drqy",
        "colab": {
          "base_uri": "https://localhost:8080/"
        },
        "outputId": "25d4b3dd-5445-4f5d-d5f9-6d95577d286e"
      },
      "execution_count": 43,
      "outputs": [
        {
          "output_type": "execute_result",
          "data": {
            "text/plain": [
              "4.048"
            ]
          },
          "metadata": {},
          "execution_count": 43
        }
      ]
    },
    {
      "cell_type": "code",
      "source": [
        "calificacion_tiendaD = (sum(tiendaD[\"Calificación\"])) / len(tiendaD[\"Calificación\"])\n",
        "calificacion_tiendaD = round(calificacion_tiendaD, 3)\n",
        "calificacion_tiendaD"
      ],
      "metadata": {
        "id": "Sof_ZkMgDr54",
        "colab": {
          "base_uri": "https://localhost:8080/"
        },
        "outputId": "d320ca7d-a883-4db4-a44a-347687976585"
      },
      "execution_count": 44,
      "outputs": [
        {
          "output_type": "execute_result",
          "data": {
            "text/plain": [
              "3.996"
            ]
          },
          "metadata": {},
          "execution_count": 44
        }
      ]
    },
    {
      "cell_type": "markdown",
      "source": [
        "# 4. Productos más y menos vendidos"
      ],
      "metadata": {
        "id": "DmNp1KPBZCm-"
      }
    },
    {
      "cell_type": "code",
      "source": [
        "tiendaA[\"Producto\"].unique()"
      ],
      "metadata": {
        "id": "1Xiwtxb5NJ0k",
        "colab": {
          "base_uri": "https://localhost:8080/"
        },
        "outputId": "a5dace51-0386-463d-f12d-5c0e7c14cc89"
      },
      "execution_count": 45,
      "outputs": [
        {
          "output_type": "execute_result",
          "data": {
            "text/plain": [
              "array(['Asistente virtual', 'Mesa de comedor', 'Juego de mesa',\n",
              "       'Microondas', 'Silla de oficina', 'Bloques de construcción',\n",
              "       'Muñeca bebé', 'Lavavajillas', 'Lavadora de ropa',\n",
              "       'Carrito de control remoto', 'Refrigerador', 'Auriculares',\n",
              "       'Olla de presión', 'Bicicleta', 'Ciencia de datos con Python',\n",
              "       'Balón de voleibol', 'Ajedrez de madera', 'TV LED UHD 4K',\n",
              "       'Vaso térmico', 'Kit de bancas', 'Dashboards con Power BI',\n",
              "       'Cubertería', 'Set de ollas', 'Batería', 'Cuerda para saltar',\n",
              "       'Estufa', 'Cama box', 'Impresora', 'Mesa de noche', 'Armario',\n",
              "       'Dinosaurio Rex', 'Guitarra eléctrica', 'Secadora de ropa',\n",
              "       'Sofá reclinable', 'Tablet ABXY', 'Cubo mágico 8x8',\n",
              "       'Set de vasos', 'Modelado predictivo', 'Iphone 15', 'Mochila',\n",
              "       'Balón de baloncesto', 'Auriculares con micrófono', 'Sillón',\n",
              "       'Guitarra acústica', 'Iniciando en programación', 'Celular ABXY',\n",
              "       'Smartwatch', 'Mesa de centro', 'Cama king', 'Smart TV',\n",
              "       'Pandereta'], dtype=object)"
            ]
          },
          "metadata": {},
          "execution_count": 45
        }
      ]
    },
    {
      "cell_type": "code",
      "source": [
        "tiendaA[\"Producto\"].value_counts()"
      ],
      "metadata": {
        "id": "qoyjqijQZHfF",
        "colab": {
          "base_uri": "https://localhost:8080/",
          "height": 1000
        },
        "outputId": "a31ee450-04e7-488b-9625-406aad52ef4e"
      },
      "execution_count": 46,
      "outputs": [
        {
          "output_type": "execute_result",
          "data": {
            "text/plain": [
              "Producto\n",
              "Microondas                     60\n",
              "TV LED UHD 4K                  60\n",
              "Armario                        60\n",
              "Secadora de ropa               58\n",
              "Mesa de noche                  56\n",
              "Bloques de construcción        56\n",
              "Balón de baloncesto            55\n",
              "Bicicleta                      54\n",
              "Vaso térmico                   54\n",
              "Refrigerador                   54\n",
              "Impresora                      54\n",
              "Batería                        53\n",
              "Cubertería                     52\n",
              "Carrito de control remoto      52\n",
              "Modelado predictivo            51\n",
              "Auriculares                    50\n",
              "Ajedrez de madera              49\n",
              "Iphone 15                      49\n",
              "Lavavajillas                   48\n",
              "Lavadora de ropa               47\n",
              "Guitarra eléctrica             47\n",
              "Guitarra acústica              46\n",
              "Sofá reclinable                46\n",
              "Silla de oficina               46\n",
              "Estufa                         45\n",
              "Cama box                       44\n",
              "Kit de bancas                  44\n",
              "Smart TV                       44\n",
              "Cama king                      44\n",
              "Cubo mágico 8x8                44\n",
              "Mesa de centro                 44\n",
              "Set de ollas                   43\n",
              "Smartwatch                     43\n",
              "Juego de mesa                  43\n",
              "Balón de voleibol              42\n",
              "Dashboards con Power BI        42\n",
              "Tablet ABXY                    42\n",
              "Sillón                         41\n",
              "Iniciando en programación      41\n",
              "Set de vasos                   41\n",
              "Asistente virtual              40\n",
              "Muñeca bebé                    40\n",
              "Mesa de comedor                40\n",
              "Dinosaurio Rex                 40\n",
              "Cuerda para saltar             40\n",
              "Mochila                        39\n",
              "Ciencia de datos con Python    39\n",
              "Pandereta                      36\n",
              "Olla de presión                35\n",
              "Auriculares con micrófono      33\n",
              "Celular ABXY                   33\n",
              "Name: count, dtype: int64"
            ],
            "text/html": [
              "<div>\n",
              "<style scoped>\n",
              "    .dataframe tbody tr th:only-of-type {\n",
              "        vertical-align: middle;\n",
              "    }\n",
              "\n",
              "    .dataframe tbody tr th {\n",
              "        vertical-align: top;\n",
              "    }\n",
              "\n",
              "    .dataframe thead th {\n",
              "        text-align: right;\n",
              "    }\n",
              "</style>\n",
              "<table border=\"1\" class=\"dataframe\">\n",
              "  <thead>\n",
              "    <tr style=\"text-align: right;\">\n",
              "      <th></th>\n",
              "      <th>count</th>\n",
              "    </tr>\n",
              "    <tr>\n",
              "      <th>Producto</th>\n",
              "      <th></th>\n",
              "    </tr>\n",
              "  </thead>\n",
              "  <tbody>\n",
              "    <tr>\n",
              "      <th>Microondas</th>\n",
              "      <td>60</td>\n",
              "    </tr>\n",
              "    <tr>\n",
              "      <th>TV LED UHD 4K</th>\n",
              "      <td>60</td>\n",
              "    </tr>\n",
              "    <tr>\n",
              "      <th>Armario</th>\n",
              "      <td>60</td>\n",
              "    </tr>\n",
              "    <tr>\n",
              "      <th>Secadora de ropa</th>\n",
              "      <td>58</td>\n",
              "    </tr>\n",
              "    <tr>\n",
              "      <th>Mesa de noche</th>\n",
              "      <td>56</td>\n",
              "    </tr>\n",
              "    <tr>\n",
              "      <th>Bloques de construcción</th>\n",
              "      <td>56</td>\n",
              "    </tr>\n",
              "    <tr>\n",
              "      <th>Balón de baloncesto</th>\n",
              "      <td>55</td>\n",
              "    </tr>\n",
              "    <tr>\n",
              "      <th>Bicicleta</th>\n",
              "      <td>54</td>\n",
              "    </tr>\n",
              "    <tr>\n",
              "      <th>Vaso térmico</th>\n",
              "      <td>54</td>\n",
              "    </tr>\n",
              "    <tr>\n",
              "      <th>Refrigerador</th>\n",
              "      <td>54</td>\n",
              "    </tr>\n",
              "    <tr>\n",
              "      <th>Impresora</th>\n",
              "      <td>54</td>\n",
              "    </tr>\n",
              "    <tr>\n",
              "      <th>Batería</th>\n",
              "      <td>53</td>\n",
              "    </tr>\n",
              "    <tr>\n",
              "      <th>Cubertería</th>\n",
              "      <td>52</td>\n",
              "    </tr>\n",
              "    <tr>\n",
              "      <th>Carrito de control remoto</th>\n",
              "      <td>52</td>\n",
              "    </tr>\n",
              "    <tr>\n",
              "      <th>Modelado predictivo</th>\n",
              "      <td>51</td>\n",
              "    </tr>\n",
              "    <tr>\n",
              "      <th>Auriculares</th>\n",
              "      <td>50</td>\n",
              "    </tr>\n",
              "    <tr>\n",
              "      <th>Ajedrez de madera</th>\n",
              "      <td>49</td>\n",
              "    </tr>\n",
              "    <tr>\n",
              "      <th>Iphone 15</th>\n",
              "      <td>49</td>\n",
              "    </tr>\n",
              "    <tr>\n",
              "      <th>Lavavajillas</th>\n",
              "      <td>48</td>\n",
              "    </tr>\n",
              "    <tr>\n",
              "      <th>Lavadora de ropa</th>\n",
              "      <td>47</td>\n",
              "    </tr>\n",
              "    <tr>\n",
              "      <th>Guitarra eléctrica</th>\n",
              "      <td>47</td>\n",
              "    </tr>\n",
              "    <tr>\n",
              "      <th>Guitarra acústica</th>\n",
              "      <td>46</td>\n",
              "    </tr>\n",
              "    <tr>\n",
              "      <th>Sofá reclinable</th>\n",
              "      <td>46</td>\n",
              "    </tr>\n",
              "    <tr>\n",
              "      <th>Silla de oficina</th>\n",
              "      <td>46</td>\n",
              "    </tr>\n",
              "    <tr>\n",
              "      <th>Estufa</th>\n",
              "      <td>45</td>\n",
              "    </tr>\n",
              "    <tr>\n",
              "      <th>Cama box</th>\n",
              "      <td>44</td>\n",
              "    </tr>\n",
              "    <tr>\n",
              "      <th>Kit de bancas</th>\n",
              "      <td>44</td>\n",
              "    </tr>\n",
              "    <tr>\n",
              "      <th>Smart TV</th>\n",
              "      <td>44</td>\n",
              "    </tr>\n",
              "    <tr>\n",
              "      <th>Cama king</th>\n",
              "      <td>44</td>\n",
              "    </tr>\n",
              "    <tr>\n",
              "      <th>Cubo mágico 8x8</th>\n",
              "      <td>44</td>\n",
              "    </tr>\n",
              "    <tr>\n",
              "      <th>Mesa de centro</th>\n",
              "      <td>44</td>\n",
              "    </tr>\n",
              "    <tr>\n",
              "      <th>Set de ollas</th>\n",
              "      <td>43</td>\n",
              "    </tr>\n",
              "    <tr>\n",
              "      <th>Smartwatch</th>\n",
              "      <td>43</td>\n",
              "    </tr>\n",
              "    <tr>\n",
              "      <th>Juego de mesa</th>\n",
              "      <td>43</td>\n",
              "    </tr>\n",
              "    <tr>\n",
              "      <th>Balón de voleibol</th>\n",
              "      <td>42</td>\n",
              "    </tr>\n",
              "    <tr>\n",
              "      <th>Dashboards con Power BI</th>\n",
              "      <td>42</td>\n",
              "    </tr>\n",
              "    <tr>\n",
              "      <th>Tablet ABXY</th>\n",
              "      <td>42</td>\n",
              "    </tr>\n",
              "    <tr>\n",
              "      <th>Sillón</th>\n",
              "      <td>41</td>\n",
              "    </tr>\n",
              "    <tr>\n",
              "      <th>Iniciando en programación</th>\n",
              "      <td>41</td>\n",
              "    </tr>\n",
              "    <tr>\n",
              "      <th>Set de vasos</th>\n",
              "      <td>41</td>\n",
              "    </tr>\n",
              "    <tr>\n",
              "      <th>Asistente virtual</th>\n",
              "      <td>40</td>\n",
              "    </tr>\n",
              "    <tr>\n",
              "      <th>Muñeca bebé</th>\n",
              "      <td>40</td>\n",
              "    </tr>\n",
              "    <tr>\n",
              "      <th>Mesa de comedor</th>\n",
              "      <td>40</td>\n",
              "    </tr>\n",
              "    <tr>\n",
              "      <th>Dinosaurio Rex</th>\n",
              "      <td>40</td>\n",
              "    </tr>\n",
              "    <tr>\n",
              "      <th>Cuerda para saltar</th>\n",
              "      <td>40</td>\n",
              "    </tr>\n",
              "    <tr>\n",
              "      <th>Mochila</th>\n",
              "      <td>39</td>\n",
              "    </tr>\n",
              "    <tr>\n",
              "      <th>Ciencia de datos con Python</th>\n",
              "      <td>39</td>\n",
              "    </tr>\n",
              "    <tr>\n",
              "      <th>Pandereta</th>\n",
              "      <td>36</td>\n",
              "    </tr>\n",
              "    <tr>\n",
              "      <th>Olla de presión</th>\n",
              "      <td>35</td>\n",
              "    </tr>\n",
              "    <tr>\n",
              "      <th>Auriculares con micrófono</th>\n",
              "      <td>33</td>\n",
              "    </tr>\n",
              "    <tr>\n",
              "      <th>Celular ABXY</th>\n",
              "      <td>33</td>\n",
              "    </tr>\n",
              "  </tbody>\n",
              "</table>\n",
              "</div><br><label><b>dtype:</b> int64</label>"
            ]
          },
          "metadata": {},
          "execution_count": 46
        }
      ]
    },
    {
      "cell_type": "code",
      "source": [],
      "metadata": {
        "id": "0Sw3sd4IZIGW"
      },
      "execution_count": 46,
      "outputs": []
    },
    {
      "cell_type": "markdown",
      "source": [
        "# 5. Envío promedio por tienda"
      ],
      "metadata": {
        "id": "Fl0cGi3bZKqU"
      }
    },
    {
      "cell_type": "code",
      "source": [
        "Promed_costo_de_envió_tiendaA = (sum(tiendaA[\"Costo de envío\"])) / len(tiendaA[\"Costo de envío\"])\n",
        "Promed_costo_de_envió_tiendaA = round(Promed_costo_de_envió_tiendaA, 3)\n",
        "Promed_costo_de_envió_tiendaA"
      ],
      "metadata": {
        "id": "S2JeaCykZNy9",
        "colab": {
          "base_uri": "https://localhost:8080/"
        },
        "outputId": "2f704525-2cf0-43d6-fe8b-0040ad2620d6"
      },
      "execution_count": 47,
      "outputs": [
        {
          "output_type": "execute_result",
          "data": {
            "text/plain": [
              "26018.61"
            ]
          },
          "metadata": {},
          "execution_count": 47
        }
      ]
    },
    {
      "cell_type": "code",
      "source": [
        "Promed_costo_de_envió_tiendaB = (sum(tiendaB[\"Costo de envío\"])) / len(tiendaB[\"Costo de envío\"])\n",
        "Promed_costo_de_envió_tiendaB = round(Promed_costo_de_envió_tiendaB, 3)\n",
        "Promed_costo_de_envió_tiendaB"
      ],
      "metadata": {
        "colab": {
          "base_uri": "https://localhost:8080/"
        },
        "id": "7og-UHa-EPVC",
        "outputId": "2d6d1bfe-d8c5-486b-de84-df7ba8345345"
      },
      "execution_count": 48,
      "outputs": [
        {
          "output_type": "execute_result",
          "data": {
            "text/plain": [
              "25216.236"
            ]
          },
          "metadata": {},
          "execution_count": 48
        }
      ]
    },
    {
      "cell_type": "code",
      "source": [
        "Promed_costo_de_envió_tiendaC = (sum(tiendaC[\"Costo de envío\"])) / len(tiendaC[\"Costo de envío\"])\n",
        "Promed_costo_de_envió_tiendaC = round(Promed_costo_de_envió_tiendaC, 3)\n",
        "Promed_costo_de_envió_tiendaC"
      ],
      "metadata": {
        "id": "0tSdCie9ZQlt",
        "colab": {
          "base_uri": "https://localhost:8080/"
        },
        "outputId": "8a95ab5e-95d3-4f5c-e90c-2a8c39701fdc"
      },
      "execution_count": 49,
      "outputs": [
        {
          "output_type": "execute_result",
          "data": {
            "text/plain": [
              "24805.68"
            ]
          },
          "metadata": {},
          "execution_count": 49
        }
      ]
    },
    {
      "cell_type": "code",
      "source": [
        "Promed_costo_de_envió_tiendaD = (sum(tiendaD[\"Costo de envío\"])) / len(tiendaD[\"Costo de envío\"])\n",
        "Promed_costo_de_envió_tiendaD =round(Promed_costo_de_envió_tiendaD, 3)\n",
        "Promed_costo_de_envió_tiendaD"
      ],
      "metadata": {
        "colab": {
          "base_uri": "https://localhost:8080/"
        },
        "id": "XQUpGYhxFl7G",
        "outputId": "98ba349e-1fbb-4079-ba70-7f71f055892b"
      },
      "execution_count": 50,
      "outputs": [
        {
          "output_type": "execute_result",
          "data": {
            "text/plain": [
              "23459.457"
            ]
          },
          "metadata": {},
          "execution_count": 50
        }
      ]
    },
    {
      "cell_type": "code",
      "source": [],
      "metadata": {
        "id": "egvJiiaVF4ZH"
      },
      "execution_count": 50,
      "outputs": []
    }
  ]
}